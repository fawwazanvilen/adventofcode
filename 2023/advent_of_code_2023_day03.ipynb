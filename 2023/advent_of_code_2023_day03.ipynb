{
  "nbformat": 4,
  "nbformat_minor": 0,
  "metadata": {
    "colab": {
      "provenance": []
    },
    "kernelspec": {
      "name": "python3",
      "display_name": "Python 3"
    },
    "language_info": {
      "name": "python"
    }
  },
  "cells": [
    {
      "cell_type": "code",
      "execution_count": null,
      "metadata": {
        "id": "FvT-p5Wxouuy"
      },
      "outputs": [],
      "source": [
        "# day 4 - part 1\n",
        "with open('advent-of-code-day3-input', 'r') as file:\n",
        "# with open('testcase-day3.txt', 'r') as file:\n",
        "  input_data = file.read()\n",
        "\n",
        "# split the input data by \"\\n\"\n",
        "input_data = input_data.split(\"\\n\")\n",
        "\n",
        "# filter from empty elements\n",
        "input_data = list(filter(None, input_data))\n",
        "\n",
        "# check (good)\n",
        "# input_data"
      ]
    },
    {
      "cell_type": "code",
      "source": [
        "# make a coordinate of every number\n",
        "import re\n",
        "import copy\n",
        "\n",
        "def find_numbers_and_symbols(input_data):\n",
        "  number_coordinates = []\n",
        "  symbol_coordinates = []\n",
        "  # iterate through each line\n",
        "  for y, line in enumerate(input_data):\n",
        "    # find all sequences of digits in line, using re.finditer()\n",
        "    for match in re.finditer(r'\\d+', line):\n",
        "      number = match.group()\n",
        "      x_start, x_end = match.start(), match.end()\n",
        "      adj_bool = False\n",
        "      number_coordinates.append([number, x_start, y, adj_bool]) # False to later check adjacency\n",
        "      # number_coordinates.append((number, x_start, y)) # the False one doesn't work\n",
        "\n",
        "    # find all non-period and non-digit symbols, using re.finditer() too\n",
        "    for match in re.finditer(r'[^0-9.]', line):\n",
        "      symbol = match.group()\n",
        "      x_start, x_end = match.start(), match.end()\n",
        "      symbol_coordinates.append([symbol, x_start, y])\n",
        "\n",
        "  return number_coordinates, symbol_coordinates\n",
        "\n",
        "# after getting the coordinates, check if number is adjacent with a symbol?\n",
        "# or for every symbol which numbers are adjacent to it?\n",
        "# yeah the last one works\n",
        "# solving the problem\n",
        "def check_adjacency(number_coordinates, symbol_coordinates):\n",
        "  for symbol, sym_x, sym_y in symbol_coordinates:\n",
        "    # for num, num_x, num_y in number_coordinates:\n",
        "    for i, el in enumerate(number_coordinates):\n",
        "      num, num_x, num_y, adj_bool = el\n",
        "      if (sym_x >= num_x-1) and (sym_x <= (num_x+len(num)-1)+1) and (sym_y >= num_y-1) and (sym_y <= num_y+1):\n",
        "        # print(num)\n",
        "        # sum += int(num)\n",
        "        number_coordinates[i][3] = True\n",
        "\n",
        "  return number_coordinates\n",
        "\n",
        "# functions\n",
        "number_coordinates, symbol_coordinates = find_numbers_and_symbols(input_data)\n",
        "number_coordinates = check_adjacency(number_coordinates, symbol_coordinates)\n",
        "# summing\n",
        "sum = 0\n",
        "for num, num_x, num_y, adj_bool in number_coordinates:\n",
        "  if adj_bool == True:\n",
        "    sum += int(num)\n",
        "  # else:\n",
        "    # print(num)\n",
        "print(sum)\n",
        "# 544638 is wrong (i miscoded this (sym_x <= (num_x+len(num)-1)+1), forgot to add -1 to the term)\n",
        "# right answer is 538046"
      ],
      "metadata": {
        "colab": {
          "base_uri": "https://localhost:8080/"
        },
        "id": "wPUaRkwIx-JS",
        "outputId": "ba468651-9891-4c02-ea0c-1840f958312b"
      },
      "execution_count": null,
      "outputs": [
        {
          "output_type": "stream",
          "name": "stdout",
          "text": [
            "538046\n"
          ]
        }
      ]
    },
    {
      "cell_type": "code",
      "source": [
        "# day 3 - part 2\n",
        "# resetting\n",
        "number_coordinates, symbol_coordinates = find_numbers_and_symbols(input_data)\n",
        "\n",
        "# solving the problem\n",
        "sum = 0\n",
        "for symbol, sym_x, sym_y in symbol_coordinates:\n",
        "    # for num, num_x, num_y in number_coordinates:\n",
        "    count = 0 # to count how many numbers are adjacent to it\n",
        "    adj_num = [] # adjacent numbers to a symbol\n",
        "    for i, el in enumerate(number_coordinates):\n",
        "      num, num_x, num_y, adj_bool = el\n",
        "      if (sym_x >= num_x-1) and (sym_x <= (num_x+len(num)-1)+1) and (sym_y >= num_y-1) and (sym_y <= num_y+1):\n",
        "        # print(num)\n",
        "        # sum += int(num)\n",
        "        number_coordinates[i][3] = True\n",
        "        count += 1\n",
        "        adj_num.append(int(num))\n",
        "\n",
        "    if count == 2:\n",
        "      # if count is exactly 2, it's a gear\n",
        "      # product = eval(\"*\".join(str(num) for num in adj_num)) # lols multiplication\n",
        "      product = adj_num[0]*adj_num[1]\n",
        "      sum += product\n",
        "\n",
        "print(sum)"
      ],
      "metadata": {
        "colab": {
          "base_uri": "https://localhost:8080/"
        },
        "id": "tdGYzl_o7RW_",
        "outputId": "849bbf88-32ba-4b16-b654-21454d3c555b"
      },
      "execution_count": null,
      "outputs": [
        {
          "output_type": "stream",
          "name": "stdout",
          "text": [
            "81709807\n"
          ]
        }
      ]
    }
  ]
}