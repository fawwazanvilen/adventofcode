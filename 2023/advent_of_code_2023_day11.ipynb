{
  "nbformat": 4,
  "nbformat_minor": 0,
  "metadata": {
    "colab": {
      "provenance": []
    },
    "kernelspec": {
      "name": "python3",
      "display_name": "Python 3"
    },
    "language_info": {
      "name": "python"
    }
  },
  "cells": [
    {
      "cell_type": "code",
      "execution_count": 20,
      "metadata": {
        "id": "xf25GJoS_L_l"
      },
      "outputs": [],
      "source": [
        "# day 11 - part 1\n",
        "with open('advent-of-code-day11-input', 'r') as file:\n",
        "# with open('advent-of-code-day11-testcase', 'r') as file:\n",
        "  input_data = file.read()\n",
        "\n",
        "# split the input data by \"\\n\"\n",
        "input_data = input_data.split(\"\\n\")\n",
        "\n",
        "# filter from empty elements\n",
        "input_data = list(filter(None, input_data))\n",
        "\n",
        "# check (good)\n",
        "# input_data\n",
        "\n",
        "# name it good\n",
        "image = input_data\n",
        "# image"
      ]
    },
    {
      "cell_type": "code",
      "source": [
        "# helper transpose function\n",
        "def transpose(matrix):\n",
        "  return [list(col) for col in zip(*matrix)] # col in A becomes row here\n",
        "\n",
        "# define a function that expands the space\n",
        "def expandSpace(image):\n",
        "  image = [list(row) for row in image] # must be done to not make it change inplace, something weird with strings\n",
        "  emptyRows, emptyCols = [], []\n",
        "  for i, row in enumerate(image): # iterate over rows\n",
        "    if all(space == '.' for space in row):\n",
        "      emptyRows.append(i)\n",
        "\n",
        "  for j, col in enumerate(transpose(image)): # iterate over cols\n",
        "    if all(space == '.' for space in col):\n",
        "      emptyCols.append(j)\n",
        "\n",
        "  # emptyRows and emptyCols will change dynamically when the image is inserted, so this needs adjustment\n",
        "  emptyRows = [(emptyRow, emptyRow + i) for i, emptyRow in enumerate(emptyRows)]\n",
        "  emptyCols = [(emptyCol, emptyCol + i) for i, emptyCol in enumerate(emptyCols)]\n",
        "\n",
        "  # now insert the empty rows and cols\n",
        "  for _, emptyRow in emptyRows:\n",
        "    image.insert(emptyRow, image[emptyRow])\n",
        "\n",
        "  image = transpose(image) # transpose for cols\n",
        "  for _, emptyCol in emptyCols:\n",
        "    image.insert(emptyCol, image[emptyCol])\n",
        "\n",
        "  image = transpose(image) # transpose again to get to the original orientation\n",
        "  image = [''.join(row) for row in image]\n",
        "\n",
        "  return image\n",
        "# expandSpace(image) # good\n",
        "\n",
        "# helper function\n",
        "def distanceGalaxyPair(galA, galB):\n",
        "  distI = abs(galA[0] - galB[0])\n",
        "  distJ = abs(galA[1] - galB[1])\n",
        "  return distI + distJ\n",
        "\n",
        "def galaxyFinder(image):\n",
        "  galaxies = []\n",
        "  for i, row in enumerate(image):\n",
        "    for j, el in enumerate(row):\n",
        "      if el == \"#\":\n",
        "        galaxies.append((i, j))\n",
        "  return galaxies\n",
        "\n",
        "from itertools import combinations\n",
        "# now define a function that returns distance to every pair of galaxies there is\n",
        "def sumDistanceGalaxyPairs(image):\n",
        "  image = [list(row) for row in image] # avoid immutable strings shenanigans\n",
        "  galaxies = galaxyFinder(image) # find galaxies\n",
        "  galaxiesCombination = list(combinations(galaxies, 2)) # find all possible galaxy combinations\n",
        "\n",
        "  total = 0\n",
        "  for galA, galB in galaxiesCombination:\n",
        "    total += distanceGalaxyPair(galA, galB)\n",
        "\n",
        "  return total\n",
        "\n",
        "sumDistanceGalaxyPairs(expandSpace(image))\n",
        "# 374, right for the testcase\n",
        "# 9684228 RIGHT first try\n",
        "# finished in 59'"
      ],
      "metadata": {
        "colab": {
          "base_uri": "https://localhost:8080/"
        },
        "id": "h9YYVuH6_bhV",
        "outputId": "c2a40e24-43f2-4350-d011-3d64b95e6948"
      },
      "execution_count": 14,
      "outputs": [
        {
          "output_type": "execute_result",
          "data": {
            "text/plain": [
              "374"
            ]
          },
          "metadata": {},
          "execution_count": 14
        }
      ]
    },
    {
      "cell_type": "code",
      "source": [
        "# day 11 - part 2\n",
        "with open('advent-of-code-day11-input', 'r') as file:\n",
        "# with open('advent-of-code-day11-testcase', 'r') as file:\n",
        "  input_data = file.read()\n",
        "\n",
        "# split the input data by \"\\n\"\n",
        "input_data = input_data.split(\"\\n\")\n",
        "\n",
        "# filter from empty elements\n",
        "input_data = list(filter(None, input_data))\n",
        "\n",
        "# check (good)\n",
        "# input_data\n",
        "\n",
        "# name it good\n",
        "image = input_data\n",
        "# image"
      ],
      "metadata": {
        "id": "X1Q-seFnLV6G"
      },
      "execution_count": 21,
      "outputs": []
    },
    {
      "cell_type": "code",
      "source": [
        "# hmmm i think i should just find emptyRows and Cols, then jsut find clever ways to sum over it?\n",
        "def emptyRowsCols(image):\n",
        "  image = [list(row) for row in image] # must be done to not make it change inplace, something weird with strings\n",
        "  emptyRows, emptyCols = [], []\n",
        "\n",
        "  for i, row in enumerate(image): # iterate over rows\n",
        "    if all(space == '.' for space in row):\n",
        "      emptyRows.append(i)\n",
        "\n",
        "  for j, col in enumerate(transpose(image)): # iterate over cols\n",
        "    if all(space == '.' for space in col):\n",
        "      emptyCols.append(j)\n",
        "\n",
        "  return emptyRows, emptyCols\n",
        "\n",
        "# redefine the dist function\n",
        "def distanceGalaxyPairV2(galA, galB, emptyRows, emptyCols, multiplier):\n",
        "  maxRow = max(galA[0], galB[0])\n",
        "  minRow = min(galA[0], galB[0])\n",
        "  maxCol = max(galA[1], galB[1])\n",
        "  minCol = min(galA[1], galB[1])\n",
        "\n",
        "  distRow = maxRow - minRow\n",
        "  distCol = maxCol - minCol\n",
        "\n",
        "  emptyRowsTraversed = sum([1 for row in range(minRow+1, maxRow) if row in emptyRows])*(multiplier-1)\n",
        "  emptyColsTraversed = sum([1 for col in range(minCol+1, maxCol) if col in emptyCols])*(multiplier-1) # this is a bit peculiar but think about it\n",
        "\n",
        "  return distRow + distCol + emptyRowsTraversed + emptyColsTraversed\n",
        "\n",
        "def sumDistanceGalaxyPairsV2(image, multiplier):\n",
        "  image = [list(row) for row in image] # avoid immutable strings shenanigans\n",
        "  emptyRows, emptyCols = emptyRowsCols(image) # find all empty rows and cols for distance calc\n",
        "  galaxies = galaxyFinder(image) # find galaxies\n",
        "  galaxiesCombination = list(combinations(galaxies, 2)) # find all possible galaxy combinations\n",
        "\n",
        "  total = 0\n",
        "  for galA, galB in galaxiesCombination:\n",
        "    total += distanceGalaxyPairV2(galA, galB, emptyRows, emptyCols, multiplier)\n",
        "\n",
        "  return total\n",
        "\n",
        "sumDistanceGalaxyPairsV2(image, 10**6)\n",
        "# 374 right for the first testcase\n",
        "# 1030, right w/ test mul 10\n",
        "# 8410, right w/ test mul 100\n",
        "# 483844716556, RIGHT FIRST TRY!!\n",
        "# took me 31' lfg"
      ],
      "metadata": {
        "colab": {
          "base_uri": "https://localhost:8080/"
        },
        "id": "NwsHvVCJOyXN",
        "outputId": "b1ee8bfd-a2b6-459a-d456-583004ca8012"
      },
      "execution_count": 22,
      "outputs": [
        {
          "output_type": "execute_result",
          "data": {
            "text/plain": [
              "483844716556"
            ]
          },
          "metadata": {},
          "execution_count": 22
        }
      ]
    },
    {
      "cell_type": "markdown",
      "source": [
        "# scratchpad"
      ],
      "metadata": {
        "id": "kWlC6xlsTDnW"
      }
    },
    {
      "cell_type": "code",
      "source": [
        "### FIRST ITERATION\n",
        "\n",
        "# part 2\n",
        "# this is wrong\n",
        "# redefine expandSpace then find the dist as it is?\n",
        "def expandSpaceMultiplied(image, multiplier):\n",
        "  image = [list(row) for row in image] # must be done to not make it change inplace, something weird with strings\n",
        "  emptyRows, emptyCols = [], []\n",
        "  for i, row in enumerate(image): # iterate over rows\n",
        "    if all(space == '.' for space in row):\n",
        "      emptyRows.append(i)\n",
        "\n",
        "  for j, col in enumerate(transpose(image)): # iterate over cols\n",
        "    if all(space == '.' for space in col):\n",
        "      emptyCols.append(j)\n",
        "\n",
        "  # emptyRows and emptyCols will change dynamically when the image is inserted, so this needs adjustment\n",
        "  emptyRows = [(emptyRow, emptyRow + i*(multiplier-1)) for i, emptyRow in enumerate(emptyRows)]\n",
        "  emptyCols = [(emptyCol, emptyCol + i*(multiplier-1)) for i, emptyCol in enumerate(emptyCols)]\n",
        "\n",
        "  # now insert the empty rows and cols\n",
        "  for _, emptyRow in emptyRows:\n",
        "    image = image[:emptyRow] + [image[emptyRow]]*(multiplier-1) + image[emptyRow:]\n",
        "\n",
        "  image = transpose(image) # transpose for cols\n",
        "  for _, emptyCol in emptyCols:\n",
        "    image = image[:emptyCol] + [image[emptyCol]]*(multiplier-1) + image[emptyCol:]\n",
        "\n",
        "  image = transpose(image) # transpose again to get to the original orientation\n",
        "  image = [''.join(row) for row in image]\n",
        "\n",
        "  return image\n",
        "\n",
        "expandSpaceMultiplied(image, 10) # good\n",
        "sumDistanceGalaxyPairs(expandSpaceMultiplied(image, 10))\n",
        "# 1030, right for testcase w/ multiplier of 10\n",
        "# 8410, right for testcase w/ multiplier of 100\n",
        "# right for all testcases but RAM crashed when i tried to expandSpaceMultiplied with 10**6 (a million) lmao"
      ],
      "metadata": {
        "id": "ypwtvx2BTASQ"
      },
      "execution_count": null,
      "outputs": []
    },
    {
      "cell_type": "code",
      "source": [
        "for i in range(6,3):\n",
        "  print(i)"
      ],
      "metadata": {
        "colab": {
          "base_uri": "https://localhost:8080/"
        },
        "id": "3Lxst-oxBynW",
        "outputId": "e80c2ca7-113e-4eb5-ec7f-885399aa58ff"
      },
      "execution_count": 7,
      "outputs": [
        {
          "output_type": "stream",
          "name": "stdout",
          "text": [
            "3\n",
            "4\n",
            "5\n"
          ]
        }
      ]
    }
  ]
}