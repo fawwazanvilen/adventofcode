{
  "nbformat": 4,
  "nbformat_minor": 0,
  "metadata": {
    "colab": {
      "provenance": []
    },
    "kernelspec": {
      "name": "python3",
      "display_name": "Python 3"
    },
    "language_info": {
      "name": "python"
    }
  },
  "cells": [
    {
      "cell_type": "code",
      "execution_count": null,
      "metadata": {
        "id": "FKoGlehhPAFd"
      },
      "outputs": [],
      "source": [
        "# day 1 - part 1\n",
        "# read the input\n",
        "with open('advent-of-code-day1-input', 'r') as file:\n",
        "  input_data = file.read()\n",
        "\n",
        "# split the input data by \"\\n\"\n",
        "input_data = input_data.split(\"\\n\")\n",
        "\n",
        "# check (good)\n",
        "# input_data"
      ]
    },
    {
      "cell_type": "code",
      "source": [
        "# loop through every line (element) of the input_data array\n",
        "# remove everything except numbers\n",
        "\n",
        "import re # using regex\n",
        "\n",
        "sum = 0\n",
        "\n",
        "for line in input_data:\n",
        "  line = re.findall(r'\\d+', line) # re.findall returns an array/list\n",
        "  line = ''.join(line) # we want to make it into string,\n",
        "  # then add the first and last digit together as string not numbers\n",
        "  line = (line[0] + line[-1] if line != '' else 0) # might be empty\n",
        "  line = int(line)\n",
        "  sum += line\n",
        "  # print(line)\n",
        "\n",
        "# print(sum)"
      ],
      "metadata": {
        "colab": {
          "base_uri": "https://localhost:8080/"
        },
        "id": "yU6URNi8QAg6",
        "outputId": "7d24ef03-d77a-4cfd-80c5-af3242316a19"
      },
      "execution_count": null,
      "outputs": [
        {
          "output_type": "stream",
          "name": "stdout",
          "text": [
            "54968\n"
          ]
        }
      ]
    },
    {
      "cell_type": "code",
      "source": [
        "# day 1 - part 2\n",
        "# reload the input\n",
        "with open('advent-of-code-day1-input', 'r') as file:\n",
        "# with open('testcase.txt', 'r') as file:\n",
        "  input_data = file.read()\n",
        "\n",
        "# split the input data by \"\\n\"\n",
        "input_data = input_data.split(\"\\n\")\n",
        "\n",
        "# check (good)\n",
        "# input_data"
      ],
      "metadata": {
        "id": "9QjNLQ9ESLFU"
      },
      "execution_count": null,
      "outputs": []
    },
    {
      "cell_type": "code",
      "source": [
        "# let's create a function that reads strings from left to right,\n",
        "# then turn the first matching string into numbers\n",
        "def replace_words_with_numbers(s):\n",
        "  word_to_number = {\n",
        "      \"one\": \"1\",\n",
        "      \"two\": \"2\",\n",
        "      \"three\": \"3\",\n",
        "      \"four\": \"4\",\n",
        "      \"five\": \"5\",\n",
        "      \"six\": \"6\",\n",
        "      \"seven\": \"7\",\n",
        "      \"eight\": \"8\",\n",
        "      \"nine\": \"9\"\n",
        "  }\n",
        "\n",
        "  i = 0\n",
        "\n",
        "  while i < len(s):\n",
        "    for word, digit in word_to_number.items():\n",
        "      if s[i:].startswith(word):\n",
        "        # s = s[:i] + digit + s[i+len(word)-2:] # -2 because you have to check for overlaps lmao this is so dirty\n",
        "        # or use this, pad the string more\n",
        "        s = s[:i+1] + digit + s[i+len(word)-1:] # nine becomes n9e\n",
        "        i += len(digit) - 1 # only relevant when you have more than one digit numbers\n",
        "\n",
        "    i += 1\n",
        "\n",
        "  return s\n",
        "\n",
        "sum = 0\n",
        "for line in input_data:\n",
        "  # print(line)\n",
        "  line = replace_words_with_numbers(line) # replace num-words into nums first\n",
        "  line = re.findall(r'\\d+', line) # re.findall returns an array/list\n",
        "  line = ''.join(line) # we want to make it into string,\n",
        "  # print(line)\n",
        "  # then add the first and last digit together as string not numbers\n",
        "  line = (line[0] + line[-1] if line != '' else 0) # might be empty\n",
        "  # print(line)\n",
        "  line = int(line)\n",
        "  sum += line\n",
        "  # print(line)\n",
        "\n",
        "print(sum)\n"
      ],
      "metadata": {
        "colab": {
          "base_uri": "https://localhost:8080/"
        },
        "id": "GKPu4TtpSSou",
        "outputId": "307b1d47-f3ce-4981-f31c-ad3951e0291e"
      },
      "execution_count": null,
      "outputs": [
        {
          "output_type": "stream",
          "name": "stdout",
          "text": [
            "54094\n"
          ]
        }
      ]
    }
  ]
}