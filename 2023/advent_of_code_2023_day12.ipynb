{
  "nbformat": 4,
  "nbformat_minor": 0,
  "metadata": {
    "colab": {
      "provenance": []
    },
    "kernelspec": {
      "name": "python3",
      "display_name": "Python 3"
    },
    "language_info": {
      "name": "python"
    }
  },
  "cells": [
    {
      "cell_type": "code",
      "execution_count": 42,
      "metadata": {
        "id": "cuUt9T23erJl"
      },
      "outputs": [],
      "source": [
        "# day 12 - part 1\n",
        "# define a function that processes the input\n",
        "def cleanInput(inputFilename):\n",
        "  with open(inputFilename, 'r') as file:\n",
        "    inputData = file.read()\n",
        "\n",
        "  # general cleaning\n",
        "  inputData = inputData.split('\\n')\n",
        "  inputData = list(filter(None, inputData))\n",
        "\n",
        "  # problem-specific cleaning\n",
        "  temp = []\n",
        "  for line in inputData:\n",
        "    line = line.split(' ')\n",
        "    springs, groups = line[0], line[1]\n",
        "    ###\n",
        "    # you must use tuple here to use functools because list is unhashable, because list is mutable\n",
        "    springs = tuple(char for char in springs)\n",
        "    groups = tuple(int(num) for num in groups.split(','))\n",
        "    ## (past notes) or we can just use list(springs) (should i use tuple here?)\n",
        "    ## springs = [char for char in springs]\n",
        "    ## groups = [int(num) for num in groups.split(',')]\n",
        "    ###\n",
        "    temp.append([springs, groups])\n",
        "  inputData = temp\n",
        "  ###\n",
        "  return inputData\n",
        "\n",
        "inputFilename = 'advent-of-code-day12-input'\n",
        "# inputFilename = 'advent-of-code-day12-testcase'\n",
        "springsRows = cleanInput(inputFilename)\n",
        "# springsRows"
      ]
    },
    {
      "cell_type": "code",
      "source": [
        "# solution\n",
        "# inspiration from https://cutonbuminband.github.io/AOC/qmd/2023.html#day-12-hot-springs\n",
        "# almost all the logic is from there\n",
        "import functools\n",
        "\n",
        "def checkFirstGroup(springs, group): # check the first chunk/group if it's viable (ie. a correctly numbered contiguous # chunk)\n",
        "  # if all the springs of group-length is # or ? (then it's a viable chunk/group)\n",
        "  if all(spring == '#' or spring == '?' for spring in springs[:group]) and \\\n",
        "  (len(springs) == group or springs[group] == '.' or springs[group] == '?'): # AND the springs is just group-length (meaning, at the end of group), OR if the spring after that is '.' or '?'\n",
        "    return True # return True\n",
        "  return False\n",
        "\n",
        "@functools.cache # to memoize this function specifically (this is a decoration)\n",
        "def countArrangements(springs, groups):\n",
        "  # checking if it's at all possible by naively summing through the inferred broken springs in the groups\n",
        "  totalPossibleBroken = sum(groups)\n",
        "  minPossibleBroken = sum(1 for spring in springs if spring == '#') # oh if you want to use else 0 you have to put the if statement before the for statement\n",
        "  maxPossibleBroken = sum(1 for spring in springs if spring == '#' or spring == '?')\n",
        "  if minPossibleBroken > totalPossibleBroken or maxPossibleBroken < totalPossibleBroken:\n",
        "    return 0\n",
        "\n",
        "  # if the totalPossibleBroken is zero, and it passes the above check, it necessarily means that\n",
        "  # the springs variable is either all '.', or is empty; and doesn't need to be checked anymore\n",
        "  # so it means that this is a viable arrangement\n",
        "  if totalPossibleBroken == 0:\n",
        "    return 1\n",
        "\n",
        "  # now check if the first spring in springs is '.'\n",
        "  if springs[0] == '.':\n",
        "    return countArrangements(springs[1:], groups) # if so, just skip it\n",
        "\n",
        "  # chack if the first spring in springs is '#'\n",
        "  if springs[0] == '#':\n",
        "    group = groups[0] # length of the first group\n",
        "    if checkFirstGroup(springs, group):\n",
        "      if len(springs) == group: # if the length of springs the same, then it's the end\n",
        "        return 1 # and it's a viable arrangement\n",
        "      return countArrangements(springs[group + 1:], groups[1:]) # if not the end, then again, countArrangements again, start ahead\n",
        "    return 0 # if it doesn't pass checkFirstGroup, it's unviable\n",
        "\n",
        "  # now if the first spring in springs is '?'\n",
        "  # check the first case, if it's '.'\n",
        "  return countArrangements(springs[1:], groups) +\\\n",
        "  countArrangements(('#',) + springs[1:], groups) # plus the second case, if it's '#'\n",
        "  # it's tuple so you have to use the ('#', ) syntax\n",
        "\n",
        "def part1(springsRows):\n",
        "  return sum(countArrangements(*row) for row in springsRows) # *row unpacks into springs and groups\n",
        "\n",
        "part1(springsRows)\n",
        "# 21, right for testcase\n",
        "# 7025, right !!\n"
      ],
      "metadata": {
        "id": "-8ocDnrm4WNq",
        "colab": {
          "base_uri": "https://localhost:8080/"
        },
        "outputId": "7ebab0ab-0398-4e4d-cd33-0d79e2b2f3ea"
      },
      "execution_count": 43,
      "outputs": [
        {
          "output_type": "execute_result",
          "data": {
            "text/plain": [
              "7025"
            ]
          },
          "metadata": {},
          "execution_count": 43
        }
      ]
    },
    {
      "cell_type": "code",
      "source": [
        "# day 12 - part 2\n",
        "# part 2 input adjustments\n",
        "def part2Adjustments(springsRows, multiplier):\n",
        "  temp = []\n",
        "  for i, row in enumerate(springsRows):\n",
        "    springs, group = row[0], row[1]\n",
        "    springs += (multiplier - 1) * (('?',) + springs)\n",
        "    group += (multiplier - 1) * group\n",
        "    temp.append([springs, group])\n",
        "  return temp\n",
        "\n",
        "inputFilename = 'advent-of-code-day12-input'\n",
        "# inputFilename = 'advent-of-code-day12-testcase'\n",
        "multiplier = 5\n",
        "springsRows = part2Adjustments(cleanInput(inputFilename), multiplier)\n",
        "# springsRows\n",
        "\n",
        "# we can reuse the logic from part1()\n",
        "part1(springsRows)\n",
        "# 525152 right for test case\n",
        "# 11461095383315, right!! (takes 3\" of runtime here)"
      ],
      "metadata": {
        "colab": {
          "base_uri": "https://localhost:8080/"
        },
        "id": "9-bSNB_CPxod",
        "outputId": "6102f9ae-2ec7-4446-f224-0f28432b4f37"
      },
      "execution_count": 60,
      "outputs": [
        {
          "output_type": "execute_result",
          "data": {
            "text/plain": [
              "11461095383315"
            ]
          },
          "metadata": {},
          "execution_count": 60
        }
      ]
    },
    {
      "cell_type": "markdown",
      "source": [
        "# scratchpad"
      ],
      "metadata": {
        "id": "cEh3VEhBXdBk"
      }
    },
    {
      "cell_type": "code",
      "source": [
        "# chatgpt's solution feels to wonky, and doesn't work\n",
        "# think from first principles man\n",
        "# btw chatgpt's been worse man\n",
        "\n",
        "def countArrangements(row, groups, index = 0, currentGroupSize = 0, memo = None):\n",
        "  if memo is None:\n",
        "    memo = {} # if there's no memo, then instantiate it\n",
        "\n",
        "  if index == len(row): # if it /has/ overflowed\n",
        "    # return 1 if it's a viable arrangement, ie. the groups array is empty and the current group size is zero\n",
        "    # note that if there's no ? char, then there's no arrangements to be considered, so it'll return zero\n",
        "    # ie groups is empty BUT currentGroupSize is not\n",
        "    if not groups and currentGroupSize == 0:\n",
        "      return 1\n",
        "    elif len(groups) == 1 and currentGroupSize == groups[0]:\n",
        "      return 1\n",
        "    else:\n",
        "      return 0\n",
        "\n",
        "  if (index, tuple(groups), currentGroupSize) in memo:\n",
        "    return memo[(index, tuple(groups), currentGroupSize)]\n",
        "\n",
        "  if row[index] == '#': # if the current spring is broken,\n",
        "    nextGroupSize = currentGroupSize + 1 # then the nextGroupSize (for recursive function down the line) is added by one\n",
        "  elif row[index] == '.': # if it's not broken though,\n",
        "    nextGroupSize = 0 # then the nextGroupSize is reset\n",
        "    # (confusion) hmm this seems to assume that there'll be no rows with all '.', because if so it'll count as an arrangement??\n",
        "  else:\n",
        "    # assume ? is broken (#)\n",
        "    if groups and currentGroupSize + 1 <= groups[0]: # if there's still groups, and it doesn't exceed the possible size,\n",
        "      countBroken = countArrangements(row, groups if currentGroupSize+1 < groups[0] else groups[1:], index + 1, currentGroupSize + 1, memo)\n",
        "    else:\n",
        "      countBroken = 0 # else, countBroken is zero\n",
        "    # assume it's operational (.)\n",
        "    countOperational = countArrangements(row, groups, index + 1, 0, memo) # currentGroupSize becomes zero.. because it's stopped?\n",
        "    # update the memo\n",
        "    memo[(index, tuple(groups), currentGroupSize)] = countBroken + countOperational\n",
        "    return memo[(index, tuple(groups), currentGroupSize)]\n",
        "\n",
        "  return countArrangements(row, groups[1:] if groups and nextGroupSize and nextGroupSize == groups[0] else groups, index + 1, nextGroupSize, memo)\n",
        "\n",
        "def totalArrangements(springsRows):\n",
        "  total = 0\n",
        "  for springRow in springsRows:\n",
        "    row = springRow[0]\n",
        "    groups = springRow[1]\n",
        "    # print(row, groups)\n",
        "    total += countArrangements(row, groups)\n",
        "  return total\n",
        "\n",
        "totalArrangements(springRows)\n"
      ],
      "metadata": {
        "id": "CzHz4HgLiFZk",
        "colab": {
          "base_uri": "https://localhost:8080/"
        },
        "outputId": "ecdfcf66-4485-4b6c-9f6b-302e4bbf824b"
      },
      "execution_count": null,
      "outputs": [
        {
          "output_type": "execute_result",
          "data": {
            "text/plain": [
              "0"
            ]
          },
          "metadata": {},
          "execution_count": 40
        }
      ]
    },
    {
      "cell_type": "code",
      "source": [
        "# chatgpt's implementation ()\n",
        "# i'm gonna try to copy this with /minimal/ looking\n",
        "def count_arrangements(row, groups, index=0, current_group=0, memo=None):\n",
        "    if memo is None:\n",
        "        memo = {}\n",
        "\n",
        "    # Base case: reached the end of the row\n",
        "    if index == len(row):\n",
        "        # Check if all groups are matched and no current group is being formed\n",
        "        return 1 if not groups and current_group == 0 else 0\n",
        "\n",
        "    # Use memoization to avoid redundant calculations\n",
        "    if (index, tuple(groups), current_group) in memo:\n",
        "        return memo[(index, tuple(groups), current_group)]\n",
        "\n",
        "    if row[index] == '#':\n",
        "        # Continue the current group of broken springs\n",
        "        next_group = current_group + 1\n",
        "    elif row[index] == '.':\n",
        "        # Reset the current group\n",
        "        next_group = 0\n",
        "    else:  # row[index] is '?'\n",
        "        # Explore both possibilities: broken or operational spring\n",
        "        # Case 1: Consider it as broken spring\n",
        "        if groups and current_group + 1 <= groups[0]:\n",
        "            count_broken = count_arrangements(row, groups if current_group + 1 < groups[0] else groups[1:], index + 1, current_group + 1, memo)\n",
        "        else:\n",
        "            count_broken = 0\n",
        "\n",
        "        # Case 2: Consider it as operational spring\n",
        "        count_operational = count_arrangements(row, groups, index + 1, 0, memo)\n",
        "\n",
        "        # Store the result in memo and return the sum\n",
        "        memo[(index, tuple(groups), current_group)] = count_broken + count_operational\n",
        "        return memo[(index, tuple(groups), current_group)]\n",
        "\n",
        "    # Recursive call for next index\n",
        "    return count_arrangements(row, groups[1:] if next_group and next_group == groups[0] else groups, index + 1, next_group, memo)\n",
        "\n",
        "def total_arrangements(data):\n",
        "    total = 0\n",
        "    for entry in data:\n",
        "        row, group_str = entry.split(' ')\n",
        "        groups = [int(x) for x in group_str.split(',')]\n",
        "        total += count_arrangements(row, groups)\n",
        "    return total\n",
        "\n",
        "# Example usage\n",
        "data = [\n",
        "    \".??..??...?##. 1,1,3\",\n",
        "    # ... other rows ...\n",
        "]\n",
        "print(total_arrangements(data))\n"
      ],
      "metadata": {
        "id": "flnHJuzR3vx2"
      },
      "execution_count": null,
      "outputs": []
    },
    {
      "cell_type": "code",
      "source": [
        "# a = [1]\n",
        "# if not a[1:]:\n",
        "#   print('wiw')\n"
      ],
      "metadata": {
        "colab": {
          "base_uri": "https://localhost:8080/"
        },
        "id": "5fV8OUQTTgsN",
        "outputId": "3de4282e-b740-41ea-9616-80fec27d9372"
      },
      "execution_count": null,
      "outputs": [
        {
          "output_type": "stream",
          "name": "stdout",
          "text": [
            "wiw\n"
          ]
        }
      ]
    },
    {
      "cell_type": "code",
      "source": [
        "# (2,) + (1,2)\n",
        "# tuple(springsRows[0][0])\n",
        "(1,2) + 4*(1,2)"
      ],
      "metadata": {
        "colab": {
          "base_uri": "https://localhost:8080/"
        },
        "id": "RzPszrc7HD6I",
        "outputId": "a03462ea-1d08-4770-97a6-84b4af3aa10a"
      },
      "execution_count": 52,
      "outputs": [
        {
          "output_type": "execute_result",
          "data": {
            "text/plain": [
              "(1, 2, 1, 2, 1, 2, 1, 2, 1, 2)"
            ]
          },
          "metadata": {},
          "execution_count": 52
        }
      ]
    }
  ]
}