{
  "nbformat": 4,
  "nbformat_minor": 0,
  "metadata": {
    "colab": {
      "provenance": []
    },
    "kernelspec": {
      "name": "python3",
      "display_name": "Python 3"
    },
    "language_info": {
      "name": "python"
    }
  },
  "cells": [
    {
      "cell_type": "code",
      "execution_count": 33,
      "metadata": {
        "colab": {
          "base_uri": "https://localhost:8080/"
        },
        "id": "9Gv4fNC0m7Cz",
        "outputId": "c7bd0773-aab8-4e13-c7f7-a3360579724c"
      },
      "outputs": [
        {
          "output_type": "execute_result",
          "data": {
            "text/plain": [
              "['Time:        62     73     75     65',\n",
              " 'Distance:   644   1023   1240   1023']"
            ]
          },
          "metadata": {},
          "execution_count": 33
        }
      ],
      "source": [
        "# day 5 - part 1\n",
        "with open('advent-of-code-day6-input', 'r') as file:\n",
        "# with open('advent-of-code-day6-testcase', 'r') as file:\n",
        "  input_data = file.read()\n",
        "\n",
        "# split the input data by \"\\n\\n\"\n",
        "input_data = input_data.split(\"\\n\")\n",
        "\n",
        "# filter from empty elements\n",
        "input_data = list(filter(None, input_data))\n",
        "\n",
        "# check (good)\n",
        "input_data"
      ]
    },
    {
      "cell_type": "code",
      "source": [
        "# cleaning the input\n",
        "# messing around with the input\n",
        "time_list = input_data[0].split(\":\")[1].strip().split(\" \")\n",
        "time_list = list(filter(None, time_list))\n",
        "# time_list\n",
        "\n",
        "dist_list = input_data[1].split(\":\")[1].strip().split(\" \")\n",
        "dist_list = list(filter(None, dist_list))\n",
        "# dist_list\n",
        "\n",
        "time_dist_list = list(zip(time_list, dist_list))\n",
        "time_dist_list"
      ],
      "metadata": {
        "colab": {
          "base_uri": "https://localhost:8080/"
        },
        "id": "oIq6hF0fntnE",
        "outputId": "cb0f004d-455d-4db0-a80d-25f8acf910ed"
      },
      "execution_count": 20,
      "outputs": [
        {
          "output_type": "execute_result",
          "data": {
            "text/plain": [
              "[('62', '644'), ('73', '1023'), ('75', '1240'), ('65', '1023')]"
            ]
          },
          "metadata": {},
          "execution_count": 20
        }
      ]
    },
    {
      "cell_type": "code",
      "source": [
        "# defining a function to calculate the number of ways a record can be beat for a (time, record_dist) pair\n",
        "def beatingRecord(time, record_dist):\n",
        "  time, record_dist = int(time), int(record_dist)\n",
        "  beats = 0 # number of ways that record can be beat\n",
        "  for i in range(1, time):\n",
        "    possible_dist = (time-i) * i\n",
        "    if possible_dist > record_dist:\n",
        "      beats += 1\n",
        "\n",
        "  return beats\n",
        "\n",
        "# solving the problem\n",
        "product = 1\n",
        "for time, dist in time_dist_list:\n",
        "  beats = beatingRecord(time, dist)\n",
        "  if beats > 0:\n",
        "    product *= beats\n",
        "\n",
        "print(product)\n",
        "# 288, right for the testcase\n",
        "# 393120 RIGHT FIRST TRY\n",
        "# 10'30\""
      ],
      "metadata": {
        "colab": {
          "base_uri": "https://localhost:8080/"
        },
        "id": "wQJO8DGRot58",
        "outputId": "03b4d5e2-b1f3-4ec3-fe5a-e73e9843203e"
      },
      "execution_count": 21,
      "outputs": [
        {
          "output_type": "stream",
          "name": "stdout",
          "text": [
            "393120\n"
          ]
        }
      ]
    },
    {
      "cell_type": "code",
      "source": [
        "# day 5 - part 2\n",
        "# adapting the input again\n",
        "# messing around with the input\n",
        "time_list = input_data[0].split(\":\")[1].strip().replace(\" \", \"\")\n",
        "time_list = [time_list]\n",
        "# time_list\n",
        "\n",
        "dist_list = input_data[1].split(\":\")[1].strip().replace(\" \", \"\")\n",
        "dist_list = [dist_list]\n",
        "# dist_list\n",
        "\n",
        "time_dist_list = list(zip(time_list, dist_list))\n",
        "time_dist_list"
      ],
      "metadata": {
        "colab": {
          "base_uri": "https://localhost:8080/"
        },
        "id": "Vn6xj0cwqi0Y",
        "outputId": "d3f79c95-4159-4fdf-d57e-a1bdd845e554"
      },
      "execution_count": 34,
      "outputs": [
        {
          "output_type": "execute_result",
          "data": {
            "text/plain": [
              "[('62737565', '644102312401023')]"
            ]
          },
          "metadata": {},
          "execution_count": 34
        }
      ]
    },
    {
      "cell_type": "code",
      "source": [
        "# seems so simple .. but man it'd take long wouldn't it?\n",
        "# TURNS OUT NO?? IT ONLY TOOK 11\"??\n",
        "time, dist = time_dist_list[0]\n",
        "beatingRecord(time, dist)\n",
        "# 71503, right for the test case\n",
        "# 36872656 RIGHT FIRST TRY AGAIN\n",
        "# IT TOOK 16' LET'S GOOOOOOO"
      ],
      "metadata": {
        "colab": {
          "base_uri": "https://localhost:8080/"
        },
        "id": "OPmcyR9grH09",
        "outputId": "aba32f27-334e-4c94-88bf-4fd9c7efe144"
      },
      "execution_count": 35,
      "outputs": [
        {
          "output_type": "execute_result",
          "data": {
            "text/plain": [
              "36872656"
            ]
          },
          "metadata": {},
          "execution_count": 35
        }
      ]
    }
  ]
}