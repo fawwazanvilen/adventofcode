{
  "nbformat": 4,
  "nbformat_minor": 0,
  "metadata": {
    "colab": {
      "provenance": []
    },
    "kernelspec": {
      "name": "python3",
      "display_name": "Python 3"
    },
    "language_info": {
      "name": "python"
    }
  },
  "cells": [
    {
      "cell_type": "code",
      "execution_count": 35,
      "metadata": {
        "id": "5yShAkN746Vm"
      },
      "outputs": [],
      "source": [
        "# day 8 - part 1\n",
        "with open('advent-of-code-day8-input', 'r') as file:\n",
        "# with open('advent-of-code-day8-testcase1', 'r') as file:\n",
        "# with open('advent-of-code-day8-testcase2', 'r') as file:\n",
        "  input_data = file.read()\n",
        "\n",
        "# split the input data by \"\\n\"\n",
        "input_data = input_data.split(\"\\n\")\n",
        "\n",
        "# filter from empty elements\n",
        "input_data = list(filter(None, input_data))\n",
        "\n",
        "# check (good)\n",
        "# input_data\n"
      ]
    },
    {
      "cell_type": "code",
      "source": [
        "# messing around\n",
        "# prepping the input_data\n",
        "def prepInputData(input_data):\n",
        "  instructions = input_data[0] # LRLLRLRLRL.... instructions\n",
        "\n",
        "  nodesPath = {} # nodesPath is a dic, with node+L/R as a key and its destination as value\n",
        "  for nodePair in input_data[1:]:\n",
        "    node = nodePair.split(\"=\")[0].strip()\n",
        "    nodeLeft = nodePair.split(\"=\")[1].strip()[1:-1].split(\",\")[0]\n",
        "    nodeRight = nodePair.split(\"=\")[1].strip()[1:-1].split(\",\")[1].strip()\n",
        "\n",
        "    nodesPath[node + \"L\"] = nodeLeft\n",
        "    nodesPath[node + \"R\"] = nodeRight\n",
        "\n",
        "  return instructions, nodesPath\n",
        "\n",
        "instructions, nodesPath = prepInputData(input_data)\n",
        "# instructions\n",
        "# nodesPath"
      ],
      "metadata": {
        "id": "_0g1J7fA6V73"
      },
      "execution_count": 36,
      "outputs": []
    },
    {
      "cell_type": "code",
      "source": [
        "# i think you can solve the problem directly now?\n",
        "def problem1(instructions, nodesPath):\n",
        "  # initializations\n",
        "  totalMoves = 0\n",
        "  # currentNode = list(nodesPath.keys())[0][:-1] # the first node minus the L/R OH I WAS WRONG HERE THE FIRST NODE IS AAA!!\n",
        "  currentNode = \"AAA\"\n",
        "  i = 0 # iterator for instructions\n",
        "\n",
        "  # core logic (First Pomodoro done here)\n",
        "  while currentNode != \"ZZZ\":\n",
        "    # currentNode is not ZZZ\n",
        "    currentInstruction = instructions[i] # the current instruction is the one at i\n",
        "    currentNode = nodesPath[currentNode + currentInstruction] # current node then moves\n",
        "    totalMoves += 1 # totalMoves then updates\n",
        "    i += 1 # i then updates\n",
        "\n",
        "    if i == len(instructions): # if i is now at the end of instructions, then just resets (or you can use % modulo?)\n",
        "      i = 0 # go all over the instructions again\n",
        "\n",
        "  return totalMoves\n",
        "\n",
        "problem1(instructions, nodesPath)\n",
        "# mmm it's taking so long for the input (wrong because i assumed the first node was the first in the keys(), the right one is that it was \"AAA\")\n",
        "# right for the two testcases\n",
        "# 19099 instantly!! solved in 35' LFG\n"
      ],
      "metadata": {
        "colab": {
          "base_uri": "https://localhost:8080/"
        },
        "id": "SDvY_Z9p8W5I",
        "outputId": "c639dc8c-0a14-4310-827c-2464febd3ff7"
      },
      "execution_count": 37,
      "outputs": [
        {
          "output_type": "execute_result",
          "data": {
            "text/plain": [
              "19099"
            ]
          },
          "metadata": {},
          "execution_count": 37
        }
      ]
    },
    {
      "cell_type": "code",
      "source": [
        "# day 8 - part 2\n",
        "with open('advent-of-code-day8-input', 'r') as file:\n",
        "# with open('advent-of-code-day8-testcase1', 'r') as file:\n",
        "# with open('advent-of-code-day8-testcase2', 'r') as file:\n",
        "# with open('advent-of-code-day8-testcase3', 'r') as file: # testcase3 is unique to this part\n",
        "  input_data = file.read()\n",
        "\n",
        "# split the input data by \"\\n\"\n",
        "input_data = input_data.split(\"\\n\")\n",
        "\n",
        "# filter from empty elements\n",
        "input_data = list(filter(None, input_data))\n",
        "\n",
        "# check (good)\n",
        "# input_data"
      ],
      "metadata": {
        "id": "4GX10FcZ_0NH"
      },
      "execution_count": 65,
      "outputs": []
    },
    {
      "cell_type": "code",
      "source": [
        "# prepping the input data (no changes from part 1)\n",
        "instructions, nodesPath = prepInputData(input_data)"
      ],
      "metadata": {
        "id": "YA8jDm3cBW_k"
      },
      "execution_count": 66,
      "outputs": []
    },
    {
      "cell_type": "code",
      "source": [
        "# solving problem2\n",
        "# OH THE KEY IS FINDING THE LEAST COMMON MULTIPLE FOR EACH OF THE NODES!!!!\n",
        "# to find LCM\n",
        "import math\n",
        "\n",
        "# the lcm function\n",
        "def lcm_of_two(a, b):\n",
        "  return abs(a * b) // math.gcd(a, b)\n",
        "\n",
        "def lcm_of_list(numbers):\n",
        "  lcm_result = numbers[0]\n",
        "  for number in numbers:\n",
        "    lcm_result = lcm_of_two(lcm_result, number)\n",
        "  return lcm_result\n",
        "\n",
        "# just problem1 essentially but with custom currentNode\n",
        "def totalMovesFromCurrentNode(currentNode, instructions, nodesPath):\n",
        "  # initializations\n",
        "  totalMoves = 0\n",
        "  i = 0 # iterator for instructions\n",
        "\n",
        "  # core logic\n",
        "  while currentNode[-1] != \"Z\":\n",
        "    # currentNode is not ZZZ\n",
        "    currentInstruction = instructions[i] # the current instruction is the one at i\n",
        "    currentNode = nodesPath[currentNode + currentInstruction] # current node then moves\n",
        "    totalMoves += 1 # totalMoves then updates\n",
        "    i += 1 # i then updates\n",
        "\n",
        "    if i == len(instructions): # if i is now at the end of instructions, then just resets (or you can use % modulo?)\n",
        "      i = 0 # go all over the instructions again\n",
        "\n",
        "  return totalMoves\n",
        "\n",
        "def problem2(instructions, nodesPath):\n",
        "  # initialization\n",
        "  currentNodes = [node[:-1] for node in list(nodesPath.keys()) if node[2] == \"A\"] # if it ends in A then it's a starting node\n",
        "  currentNodes = list(set(currentNodes)) # this is because nodesPath always has doubles of the nodes, because it lists L and R alternatives as different keys\n",
        "  totalMovesCurrentNodes = []\n",
        "\n",
        "  for currentNode in currentNodes:\n",
        "    totalMovesCurrentNodes.append(totalMovesFromCurrentNode(currentNode, instructions, nodesPath))\n",
        "\n",
        "  # and the result is the LCM of all these totalMoves\n",
        "  return lcm_of_list(totalMovesCurrentNodes)\n",
        "\n",
        "problem2(instructions, nodesPath)\n",
        "# right for the test case\n",
        "# 17099847107071 bismillah.. RIGHT FIRST TRY!! FINISHED IN 33' !!! LET'S GOOOOOOOOOOOOO\n",
        "\n",
        "# comments\n",
        "# LCM is not neccesarily always right see (https://www.reddit.com/r/adventofcode/comments/18dfpub/2023_day_8_part_2_why_is_spoiler_correct/)\n",
        "# yeah the A to Z loop must be the same with the next Z to Z loop, and in this case it's true (!)\n",
        "# this is overgeneralizing from the testcase, and if this doesn't work then we should apply an offset for A to Z loop\n",
        "# then apply an LCM to the Z to Z loops, and add them together\n",
        "# there should be a cycle detecting algorithm here"
      ],
      "metadata": {
        "colab": {
          "base_uri": "https://localhost:8080/"
        },
        "id": "skabOHAHBald",
        "outputId": "05c926ce-5ef1-47f9-a802-3610568c79c6"
      },
      "execution_count": 67,
      "outputs": [
        {
          "output_type": "execute_result",
          "data": {
            "text/plain": [
              "17099847107071"
            ]
          },
          "metadata": {},
          "execution_count": 67
        }
      ]
    }
  ]
}