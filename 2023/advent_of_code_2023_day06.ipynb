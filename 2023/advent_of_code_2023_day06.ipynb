{
  "nbformat": 4,
  "nbformat_minor": 0,
  "metadata": {
    "colab": {
      "provenance": []
    },
    "kernelspec": {
      "name": "python3",
      "display_name": "Python 3"
    },
    "language_info": {
      "name": "python"
    }
  },
  "cells": [
    {
      "cell_type": "code",
      "execution_count": 38,
      "metadata": {
        "colab": {
          "base_uri": "https://localhost:8080/"
        },
        "id": "9Gv4fNC0m7Cz",
        "outputId": "27488137-c0d9-483c-eff1-9f7509114fdd"
      },
      "outputs": [
        {
          "output_type": "execute_result",
          "data": {
            "text/plain": [
              "['Time:      7  15   30', 'Distance:  9  40  200']"
            ]
          },
          "metadata": {},
          "execution_count": 38
        }
      ],
      "source": [
        "# day 5 - part 1\n",
        "# with open('advent-of-code-day6-input', 'r') as file:\n",
        "with open('advent-of-code-day6-testcase', 'r') as file:\n",
        "  input_data = file.read()\n",
        "\n",
        "# split the input data by \"\\n\\n\"\n",
        "input_data = input_data.split(\"\\n\")\n",
        "\n",
        "# filter from empty elements\n",
        "input_data = list(filter(None, input_data))\n",
        "\n",
        "# check (good)\n",
        "input_data"
      ]
    },
    {
      "cell_type": "code",
      "source": [
        "# cleaning the input\n",
        "# messing around with the input\n",
        "time_list = input_data[0].split(\":\")[1].strip().split(\" \")\n",
        "time_list = list(filter(None, time_list))\n",
        "# time_list\n",
        "\n",
        "dist_list = input_data[1].split(\":\")[1].strip().split(\" \")\n",
        "dist_list = list(filter(None, dist_list))\n",
        "# dist_list\n",
        "\n",
        "time_dist_list = list(zip(time_list, dist_list))\n",
        "time_dist_list"
      ],
      "metadata": {
        "colab": {
          "base_uri": "https://localhost:8080/"
        },
        "id": "oIq6hF0fntnE",
        "outputId": "50d1789f-2f16-4f53-fffd-91ebf9dbe6a9"
      },
      "execution_count": 39,
      "outputs": [
        {
          "output_type": "execute_result",
          "data": {
            "text/plain": [
              "[('7', '9'), ('15', '40'), ('30', '200')]"
            ]
          },
          "metadata": {},
          "execution_count": 39
        }
      ]
    },
    {
      "cell_type": "code",
      "source": [
        "# defining a function to calculate the number of ways a record can be beat for a (time, record_dist) pair\n",
        "def beatingRecord(time, record_dist):\n",
        "  time, record_dist = int(time), int(record_dist)\n",
        "  beats = 0 # number of ways that record can be beat\n",
        "  for i in range(1, time):\n",
        "    possible_dist = (time-i) * i\n",
        "    if possible_dist > record_dist:\n",
        "      beats += 1\n",
        "\n",
        "  return beats\n",
        "\n",
        "# trying to solve this mathematically\n",
        "def beatingRecord2(time, record_dist):\n",
        "  time, record_dist = int(time), int(record_dist)\n",
        "  # the calcs are this way because of how beating is defined, it has to be strictly larger than the record\n",
        "  # so if the beat is the same as the root, it doesn't beat the record!!\n",
        "  beat1 = ((time - ((time **2 - 4*(record_dist)) ** 0.5)) // 2) + 1 # floor, then plus 1\n",
        "  beat2 = -((time + ((time **2 - 4*(record_dist)) ** 0.5)) // -2) - 1 # ceiling, then - 1\n",
        "\n",
        "  beats = beat2 - beat1 + 1\n",
        "  return int(beats)\n",
        "\n",
        "# solving the problem\n",
        "product = 1\n",
        "for time, dist in time_dist_list:\n",
        "  # beats = beatingRecord(time, dist)\n",
        "  beats = beatingRecord2(time, dist) # trying out a mathematical way\n",
        "  if beats > 0:\n",
        "    product *= beats\n",
        "\n",
        "print(product)\n",
        "# 288, right for the testcase\n",
        "# 393120 RIGHT FIRST TRY\n",
        "# 10'30\""
      ],
      "metadata": {
        "colab": {
          "base_uri": "https://localhost:8080/"
        },
        "id": "wQJO8DGRot58",
        "outputId": "736c6d0d-4035-4527-b763-eb800a57a211"
      },
      "execution_count": 50,
      "outputs": [
        {
          "output_type": "stream",
          "name": "stdout",
          "text": [
            "288\n"
          ]
        }
      ]
    },
    {
      "cell_type": "code",
      "source": [
        "# day 5 - part 2\n",
        "# adapting the input again\n",
        "with open('advent-of-code-day6-input', 'r') as file:\n",
        "# with open('advent-of-code-day6-testcase', 'r') as file:\n",
        "  input_data = file.read()\n",
        "\n",
        "# split the input data by \"\\n\\n\"\n",
        "input_data = input_data.split(\"\\n\")\n",
        "\n",
        "# filter from empty elements\n",
        "input_data = list(filter(None, input_data))\n",
        "\n",
        "###\n",
        "# messing around with the input\n",
        "time_list = input_data[0].split(\":\")[1].strip().replace(\" \", \"\")\n",
        "time_list = [time_list]\n",
        "# time_list\n",
        "\n",
        "dist_list = input_data[1].split(\":\")[1].strip().replace(\" \", \"\")\n",
        "dist_list = [dist_list]\n",
        "# dist_list\n",
        "\n",
        "time_dist_list = list(zip(time_list, dist_list))\n",
        "time_dist_list"
      ],
      "metadata": {
        "colab": {
          "base_uri": "https://localhost:8080/"
        },
        "id": "Vn6xj0cwqi0Y",
        "outputId": "820e333c-8ec0-422d-cd66-194029c891d9"
      },
      "execution_count": 52,
      "outputs": [
        {
          "output_type": "execute_result",
          "data": {
            "text/plain": [
              "[('62737565', '644102312401023')]"
            ]
          },
          "metadata": {},
          "execution_count": 52
        }
      ]
    },
    {
      "cell_type": "code",
      "source": [
        "# seems so simple .. but man it'd take long wouldn't it?\n",
        "# TURNS OUT NO?? IT ONLY TOOK 11\"??\n",
        "time, dist = time_dist_list[0]\n",
        "# beatingRecord(time, dist)\n",
        "# 71503, right for the test case\n",
        "# 36872656 RIGHT FIRST TRY AGAIN\n",
        "# IT TOOK 16' LET'S GOOOOOOO\n",
        "\n",
        "beatingRecord2(time, dist) # trying this out\n",
        "# THE ALGO TOOK 0 SECOND LET'S GOOO\n",
        "# THE RIGHT ANSWER TOO!!!!"
      ],
      "metadata": {
        "colab": {
          "base_uri": "https://localhost:8080/"
        },
        "id": "OPmcyR9grH09",
        "outputId": "650d29f7-e608-4015-91fa-8c5851ecc70f"
      },
      "execution_count": 53,
      "outputs": [
        {
          "output_type": "execute_result",
          "data": {
            "text/plain": [
              "36872656"
            ]
          },
          "metadata": {},
          "execution_count": 53
        }
      ]
    }
  ]
}