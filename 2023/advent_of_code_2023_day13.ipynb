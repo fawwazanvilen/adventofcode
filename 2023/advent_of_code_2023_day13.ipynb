{
  "nbformat": 4,
  "nbformat_minor": 0,
  "metadata": {
    "colab": {
      "provenance": []
    },
    "kernelspec": {
      "name": "python3",
      "display_name": "Python 3"
    },
    "language_info": {
      "name": "python"
    }
  },
  "cells": [
    {
      "cell_type": "code",
      "execution_count": 206,
      "metadata": {
        "id": "-Ze_V0XxTewv"
      },
      "outputs": [],
      "source": [
        "# day 13 - part 1\n",
        "# define a function that processes the input\n",
        "def cleanInput(inputFilename):\n",
        "  with open(inputFilename, 'r') as file:\n",
        "    inputData = file.read()\n",
        "\n",
        "  # general cleaning\n",
        "  inputData = inputData.strip() # OMG ALWAYS REMEMBER TO STRIP THE INPUT FIRST!!! (maybe i should define a custom load function here)\n",
        "  inputData = inputData.split('\\n\\n')\n",
        "  inputData = list(filter(None, inputData))\n",
        "\n",
        "  # problem-specific cleaning\n",
        "  # inputData = [pattern.split('\\n') for pattern in inputData]\n",
        "  # lmao this works\n",
        "  # a list of tuples of tuples\n",
        "  inputData = [tuple(map(lambda s: tuple(list(s)), pattern.split('\\n'))) for pattern in inputData]\n",
        "\n",
        "\n",
        "  return inputData\n",
        "\n",
        "inputFilename = 'advent-of-code-day13-input'\n",
        "# inputFilename = 'advent-of-code-day13-testcase'\n",
        "# inputFilename = 'advent-of-code-day13-testcase01'\n",
        "# inputFilename = 'advent-of-code-day13-testcase02'\n",
        "ashRocksPatterns = cleanInput(inputFilename)\n",
        "# ashRocksPatterns"
      ]
    },
    {
      "cell_type": "code",
      "source": [
        "def transpose(matrix): # transposing a pattern\n",
        "  return tuple(tuple(col) for col in zip(*matrix))\n",
        "\n",
        "def findReflection(pattern):\n",
        "  hReflections, vReflections = [],[]\n",
        "  # find horizontal reflections (between rows)\n",
        "  for i in range(1, len(pattern)):\n",
        "    l = min(i, len(pattern) - i) # one simple trick....\n",
        "    if pattern[i - l:i] == pattern[i:i + l][::-1]:\n",
        "      hReflections.append(i)\n",
        "\n",
        "  # find vertical reflections (between columns)\n",
        "  pattern = transpose(pattern)\n",
        "  for i in range(1, len(pattern)):\n",
        "    l = min(i, len(pattern) - i) # one simple trick....\n",
        "    if pattern[i - l:i] == pattern[i:i + l][::-1]:\n",
        "      vReflections.append(i)\n",
        "\n",
        "  # print(hReflections, vReflections)\n",
        "  return 100 * sum(hReflections) + sum(vReflections)\n",
        "\n",
        "def part1(ashRocksPatterns):\n",
        "  total = 0\n",
        "  for pattern in ashRocksPatterns:\n",
        "    total += findReflection(pattern)\n",
        "  return total\n",
        "\n",
        "part1(ashRocksPatterns)\n",
        "# findReflection(ashRocksPatterns[0])\n",
        "# 405 right\n",
        "# 27664 for input, WRONG!! wtf wtf omg it took me to this ~60'\n",
        "# 33722 ... bismillah, WRONG\n",
        "# 816664 lmao this is wrong\n",
        "# 33722 again ... wtf\n",
        "# 33735 OMG THIS IS THE RIGHT ONE\n",
        "# THE ALGORITHM BROKE IN THE LAST PATTERN BECAUSE THERE WERE \\n's NOT ACCOUNTED FOR OMG\n",
        "# YOU NEED TO STRIP THE INPUTDATA FIRST BEFORE SPLITTING IT\n",
        "# SOLVED AFTER 3 HOURS"
      ],
      "metadata": {
        "colab": {
          "base_uri": "https://localhost:8080/"
        },
        "id": "gGFvyNt3guwz",
        "outputId": "d6868c89-5ec4-4212-9ac5-6c9dea36f590"
      },
      "execution_count": 187,
      "outputs": [
        {
          "output_type": "execute_result",
          "data": {
            "text/plain": [
              "33735"
            ]
          },
          "metadata": {},
          "execution_count": 187
        }
      ]
    },
    {
      "cell_type": "code",
      "source": [
        "# day 13 - part 2\n",
        "# man i should use numpy here to compare it per element\n",
        "def findReflection2(pattern):\n",
        "  hReflections, vReflections = [],[]\n",
        "  # find horizontal reflections (between rows)\n",
        "  for i in range(1, len(pattern)):\n",
        "    l = min(i, len(pattern) - i) # one simple trick....\n",
        "    # modified here\n",
        "    # NOTICE FOR FUTURE ME (a bit complex here, but essentially we're trying to compare element-wise)\n",
        "    # another possible implementation is by using numpy\n",
        "    # numpy's operation is element-wise, so you don't have to unpack the tuples of tuples of chars this way\n",
        "    # example implementation here (https://cutonbuminband.github.io/AOC/qmd/2023.html#day-13-point-of-incidence)\n",
        "    if sum(ela != elb for a, b in zip(pattern[i - l:i], pattern[i:i + l][::-1]) for ela, elb in zip(a, b)) == 1:\n",
        "      hReflections.append(i)\n",
        "\n",
        "  # find vertical reflections (between columns)\n",
        "  pattern = transpose(pattern)\n",
        "  for i in range(1, len(pattern)):\n",
        "    l = min(i, len(pattern) - i) # one simple trick....\n",
        "    # modified here\n",
        "    if sum(ela != elb for a, b in zip(pattern[i - l:i], pattern[i:i + l][::-1]) for ela, elb in zip(a, b)) == 1:\n",
        "      vReflections.append(i)\n",
        "\n",
        "  # print(hReflections, vReflections)\n",
        "  return 100 * sum(hReflections) + sum(vReflections)\n",
        "\n",
        "def part2(ashRocksPatterns):\n",
        "  total = 0\n",
        "  for pattern in ashRocksPatterns:\n",
        "    total += findReflection2(pattern)\n",
        "  return total\n",
        "\n",
        "part2(ashRocksPatterns)\n",
        "# 153830, this feels wrong (yeah wrong for the testcase)\n",
        "# 38063 FINALLY SOLVED AFTER 4 HOURS"
      ],
      "metadata": {
        "colab": {
          "base_uri": "https://localhost:8080/"
        },
        "id": "pkkW70hZImPO",
        "outputId": "a2a5e435-ffb1-401b-fe75-03edb2e26c09"
      },
      "execution_count": 207,
      "outputs": [
        {
          "output_type": "execute_result",
          "data": {
            "text/plain": [
              "38063"
            ]
          },
          "metadata": {},
          "execution_count": 207
        }
      ]
    },
    {
      "cell_type": "markdown",
      "source": [
        "# scratchpad"
      ],
      "metadata": {
        "id": "H60A0ij_IawI"
      }
    },
    {
      "cell_type": "code",
      "source": [
        "# debugging....\n",
        "# trying out this algo\n",
        "# https://cutonbuminband.github.io/AOC/qmd/2023.html#day-13-point-of-incidence\n",
        "# this is rly useful for debugging\n",
        "# OMG SOMETHING WAS WRONG IN MY INPUTDATA BECAUSE I HAVEN'T STRIPPED IT OF \\n's AT THE END\n",
        "\n",
        "import numpy as np\n",
        "\n",
        "def load(inputFilename):\n",
        "  with open(inputFilename, 'r') as file:\n",
        "    inputData = file.read()\n",
        "    inputData = inputData.strip() # I SHOULD'VE DONE THIS OMG\n",
        "  return inputData\n",
        "\n",
        "def find_reflection(array, part=1):\n",
        "    if part == 1: # this is ingenious tbh\n",
        "        test = lambda a, b: (a == b[::-1]).all() # and feels so simple man oh my god\n",
        "    else:\n",
        "        test = lambda a, b: (a != b[::-1]).sum() == 1\n",
        "    for i in range(1, len(array)):\n",
        "        l = min(len(array) - i, i)\n",
        "        if test(array[i - l : i], array[i : i + l]):\n",
        "            return i\n",
        "    return None\n",
        "\n",
        "\n",
        "arrays = [\n",
        "    np.array([[char for char in line.strip()] for line in array.split(\"\\n\")])\n",
        "    for array in load('advent-of-code-day13-input').split(\"\\n\\n\")\n",
        "]\n",
        "# arrays\n",
        "\n",
        "# part 1\n",
        "sum(\n",
        "    100 * y\n",
        "    if (y := find_reflection(array)) is not None\n",
        "    else find_reflection(np.rot90(array, k=-1))\n",
        "    for array in arrays\n",
        ")\n",
        "sum(\n",
        "    100 * y\n",
        "    if (y := find_reflection(array, part = 2)) is not None\n",
        "    else find_reflection(np.rot90(array, k=-1), part = 2) # this works because guaranteed (though implicitly?) there'd be only one reflection along only one axis\n",
        "    for array in arrays\n",
        ")"
      ],
      "metadata": {
        "colab": {
          "base_uri": "https://localhost:8080/"
        },
        "id": "_3U3itoeCnbH",
        "outputId": "dd2e7bd4-7502-429a-c8d9-273af920c741"
      },
      "execution_count": 209,
      "outputs": [
        {
          "output_type": "execute_result",
          "data": {
            "text/plain": [
              "38063"
            ]
          },
          "metadata": {},
          "execution_count": 209
        }
      ]
    }
  ]
}