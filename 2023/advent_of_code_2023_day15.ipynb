{
  "nbformat": 4,
  "nbformat_minor": 0,
  "metadata": {
    "colab": {
      "provenance": []
    },
    "kernelspec": {
      "name": "python3",
      "display_name": "Python 3"
    },
    "language_info": {
      "name": "python"
    }
  },
  "cells": [
    {
      "cell_type": "code",
      "execution_count": 62,
      "metadata": {
        "id": "VVPxKOw_BzcA"
      },
      "outputs": [],
      "source": [
        "3# day 15 - part 1\n",
        "# define a function that processes the input\n",
        "def load(inputFilename):\n",
        "  with open(inputFilename, 'r') as file:\n",
        "    inputData = file.read()\n",
        "\n",
        "  # general cleaning\n",
        "  inputData = inputData.strip() # OMG ALWAYS REMEMBER TO STRIP THE INPUT FIRST!!! (maybe i should define a custom load function here)\n",
        "  # inputData = inputData.split('\\n')\n",
        "  # inputData = inputData.split('\\n\\n')\n",
        "  # inputData = list(filter(None, inputData)) # i think you only need this because i forgot that you have to strip the inputData first? lmao\n",
        "\n",
        "  # problem-specific cleaning\n",
        "  inputData = inputData.replace('\\n', '').split(',')\n",
        "  return inputData\n",
        "\n",
        "inputFilename = 'advent-of-code-day15-input'\n",
        "# inputFilename = 'advent-of-code-day15-testcase'\n",
        "initSeq = load(inputFilename)\n",
        "# initSeq"
      ]
    },
    {
      "cell_type": "code",
      "source": [
        "def part1(initSeq):\n",
        "  outerTotal = 0\n",
        "  for string in initSeq:\n",
        "    total = 0\n",
        "    for char in string:\n",
        "      total += ord(char)\n",
        "      total *= 17\n",
        "      total = total % 256\n",
        "    outerTotal += total\n",
        "  return outerTotal\n",
        "\n",
        "part1(initSeq)\n",
        "# 495972, right ~30'"
      ],
      "metadata": {
        "colab": {
          "base_uri": "https://localhost:8080/"
        },
        "id": "u4JwkgKLGzOx",
        "outputId": "d08c4090-4de6-4f20-903a-1b1f81896f75"
      },
      "execution_count": 57,
      "outputs": [
        {
          "output_type": "execute_result",
          "data": {
            "text/plain": [
              "495972"
            ]
          },
          "metadata": {},
          "execution_count": 57
        }
      ]
    },
    {
      "cell_type": "code",
      "source": [
        "# define a function that finds the type of a lens, '-' or '='\n",
        "def findOps(lensPair):\n",
        "  for i, char in enumerate(lensPair):\n",
        "    if char == '-' or char == '=':\n",
        "      return (i, char)\n",
        "\n",
        "# define a function that returns the index of the findBox a lens in initSeq is in\n",
        "def findBox(lensPair):\n",
        "  box = 0\n",
        "  for char in lensPair:\n",
        "    box += ord(char)\n",
        "    box *= 17\n",
        "    box = box % 256\n",
        "  return box\n",
        "\n",
        "def processBoxes(initSeq):\n",
        "  boxes = {} # store boxes\n",
        "  for i, lensPair in enumerate(initSeq):\n",
        "    indexOps, ops = findOps(lensPair) # we can use max(string.find('='), string.find('-'))\n",
        "    box = findBox(lensPair[:indexOps])\n",
        "\n",
        "    if box not in boxes:\n",
        "      boxes[box] = {}\n",
        "\n",
        "    if ops == '=':\n",
        "      lens, focus = lensPair[:indexOps], int(lensPair[indexOps+1:])\n",
        "      boxes[box][lens] = focus\n",
        "    elif ops == '-':\n",
        "      lens = lensPair[:indexOps]\n",
        "      boxes[box].pop(lens, None)\n",
        "\n",
        "  return boxes\n",
        "\n",
        "def part2(boxes):\n",
        "  total = 0\n",
        "  for i, box in enumerate(boxes):\n",
        "    for j, lensPair in enumerate(boxes[box].items()):\n",
        "      lens, focus = lensPair\n",
        "      total += (box + 1) * (j + 1) * focus\n",
        "  return total\n",
        "\n",
        "\n",
        "# processBoxes(initSeq)\n",
        "part2(processBoxes(initSeq))\n",
        "# 145, right for testcase\n",
        "# 201921 wrong, too low (just replace old w/ new)\n",
        "# 245223, right!! after ~30' of full-assing and 4 hours of half-assing"
      ],
      "metadata": {
        "colab": {
          "base_uri": "https://localhost:8080/"
        },
        "id": "1UWDVUTbF-h_",
        "outputId": "e9469cf7-4a3e-42a2-9fd4-19e5c02b542c"
      },
      "execution_count": 63,
      "outputs": [
        {
          "output_type": "execute_result",
          "data": {
            "text/plain": [
              "245223"
            ]
          },
          "metadata": {},
          "execution_count": 63
        }
      ]
    },
    {
      "cell_type": "markdown",
      "source": [
        "# scratchpad"
      ],
      "metadata": {
        "id": "bkC98Yxs8Ze2"
      }
    },
    {
      "cell_type": "code",
      "source": [
        "string = 'cpcp-'\n",
        "indidni = max(string.find('='), string.find('-'))\n",
        "indidni"
      ],
      "metadata": {
        "colab": {
          "base_uri": "https://localhost:8080/"
        },
        "id": "Ps7sJB6v05wn",
        "outputId": "84a5edcf-569a-4254-a912-e0224ea2153b"
      },
      "execution_count": 10,
      "outputs": [
        {
          "output_type": "execute_result",
          "data": {
            "text/plain": [
              "4"
            ]
          },
          "metadata": {},
          "execution_count": 10
        }
      ]
    }
  ]
}