{
  "nbformat": 4,
  "nbformat_minor": 0,
  "metadata": {
    "colab": {
      "provenance": []
    },
    "kernelspec": {
      "name": "python3",
      "display_name": "Python 3"
    },
    "language_info": {
      "name": "python"
    }
  },
  "cells": [
    {
      "cell_type": "code",
      "execution_count": 32,
      "metadata": {
        "id": "ZPXlu6aU_EXd"
      },
      "outputs": [],
      "source": [
        "# day 9 - part 1\n",
        "with open('advent-of-code-day9-input', 'r') as file:\n",
        "# with open('advent-of-code-day9-testcase', 'r') as file:\n",
        "  input_data = file.read()\n",
        "\n",
        "# split the input data by \"\\n\"\n",
        "input_data = input_data.split(\"\\n\")\n",
        "\n",
        "# filter from empty elements\n",
        "input_data = list(filter(None, input_data))\n",
        "\n",
        "# check (good)\n",
        "# input_data"
      ]
    },
    {
      "cell_type": "code",
      "source": [
        "# messing around\n",
        "# i = 0\n",
        "# sequence = input_data[i].split(\" \")\n",
        "# sequence = [int(num) for num in sequence]\n",
        "# diff = [sequence[i + 1] - sequence[i] for i in range(len(sequence) - 1)]\n",
        "\n",
        "# prepping the data\n",
        "def dataPrep(input_data):\n",
        "  # init\n",
        "  sequences = []\n",
        "\n",
        "  for sequence in input_data:\n",
        "    sequence = sequence.split(\" \")\n",
        "    sequence = [int(num) for num in sequence]\n",
        "    sequences.append(sequence)\n",
        "\n",
        "  return sequences\n",
        "\n",
        "sequences = dataPrep(input_data)\n",
        "# sequences"
      ],
      "metadata": {
        "id": "IQlCCD4k_Rtj"
      },
      "execution_count": 33,
      "outputs": []
    },
    {
      "cell_type": "code",
      "source": [
        "def nextNum(sequence): # trying to solve the problem in part 1; the sequence's already prepped here\n",
        "  # init\n",
        "  diff = list(sequence) # this makes the sequence not be modified in place\n",
        "  diffList = [diff] # will store all historical diffs\n",
        "\n",
        "  while all(num == 0 for num in diff) != True: # while the diff is not all zero,\n",
        "    diff = [diff[i + 1] - diff[i] for i in range(len(diff) - 1)]\n",
        "    diffList.append(diff)\n",
        "\n",
        "  # when the diff becomes all zero, reverse the diffList\n",
        "  diffList = diffList[::-1] # this syntax is so cool (you can use .reverse() method in place)\n",
        "\n",
        "  # start an adding loop, from the second last (here the second first after reversal)\n",
        "  adder = 0 # the first adder is zero\n",
        "  # for diff in diffList[1:]:\n",
        "  for i in range(1, len(diffList)):\n",
        "    diffList[i].append(diffList[i][-1] + adder) # append it to the diff\n",
        "    adder = diffList[i][-1] # adder become the last sum\n",
        "    # print(diffList[i])\n",
        "\n",
        "  return diffList[-1][-1] # return the last entry of the last entry\n",
        "\n",
        "# nextNum(sequences[2]) # testing looks ok\n",
        "\n",
        "# solving the problem\n",
        "def problem1(sequences):\n",
        "  total = 0\n",
        "\n",
        "  for sequence in sequences:\n",
        "    total += nextNum(sequence)\n",
        "\n",
        "  return total\n",
        "\n",
        "problem1(sequences)\n",
        "# 114 right for the testcase\n",
        "# 1898776583 RIGHT FIRST TRY IN 34' !!"
      ],
      "metadata": {
        "colab": {
          "base_uri": "https://localhost:8080/"
        },
        "id": "a4cXb6NCAJdZ",
        "outputId": "938cace9-830d-45c9-b4c2-28d98c037bc1"
      },
      "execution_count": 34,
      "outputs": [
        {
          "output_type": "execute_result",
          "data": {
            "text/plain": [
              "1898776583"
            ]
          },
          "metadata": {},
          "execution_count": 34
        }
      ]
    },
    {
      "cell_type": "code",
      "source": [
        "# day 9 - part 2\n",
        "with open('advent-of-code-day9-input', 'r') as file:\n",
        "# with open('advent-of-code-day9-testcase', 'r') as file:\n",
        "  input_data = file.read()\n",
        "\n",
        "# split the input data by \"\\n\"\n",
        "input_data = input_data.split(\"\\n\")\n",
        "\n",
        "# filter from empty elements\n",
        "input_data = list(filter(None, input_data))\n",
        "\n",
        "# check (good)\n",
        "# input_data"
      ],
      "metadata": {
        "id": "ocr93Yk6E-Zx"
      },
      "execution_count": 45,
      "outputs": []
    },
    {
      "cell_type": "code",
      "source": [
        "# prepping the data\n",
        "sequences = dataPrep(input_data)\n",
        "# sequences"
      ],
      "metadata": {
        "id": "s_gzJm1XFBjz"
      },
      "execution_count": 46,
      "outputs": []
    },
    {
      "cell_type": "code",
      "source": [
        "# problem 2 looks so similar\n",
        "def prevNum(sequence): # trying to solve the problem in part 1; the sequence's already prepped here\n",
        "  # init\n",
        "  diff = list(sequence) # this makes the sequence not be modified in place\n",
        "  diffList = [diff] # will store all historical diffs\n",
        "\n",
        "  while all(num == 0 for num in diff) != True: # while the diff is not all zero,\n",
        "    diff = [diff[i + 1] - diff[i] for i in range(len(diff) - 1)]\n",
        "    diffList.append(diff)\n",
        "\n",
        "  # when the diff becomes all zero, reverse the diffList\n",
        "  diffList = diffList[::-1] # this syntax is so cool (you can use .reverse() method in place)\n",
        "\n",
        "  # start an adding loop, from the second last (here the second first after reversal)\n",
        "  substracter = 0 # the first adder is zero\n",
        "  # for diff in diffList[1:]:\n",
        "  for i in range(1, len(diffList)):\n",
        "    diffList[i].insert(0, diffList[i][0] - substracter) # insert at the first place\n",
        "    substracter = diffList[i][0] # substracter becomes the last sum\n",
        "    # print(diffList[i])\n",
        "\n",
        "  return diffList[-1][0] # return the first entry of the last entry\n",
        "\n",
        "# prevNum(sequences[1]) # testing looks ok\n",
        "\n",
        "# solving the problem\n",
        "def problem2(sequences):\n",
        "  total = 0\n",
        "\n",
        "  for sequence in sequences:\n",
        "    total += prevNum(sequence)\n",
        "\n",
        "  return total\n",
        "\n",
        "problem2(sequences)\n",
        "# 2 right for the testcase\n",
        "# 1100 RIGHT FIRST TRY! DONE IN 5'30\" !!!"
      ],
      "metadata": {
        "colab": {
          "base_uri": "https://localhost:8080/"
        },
        "id": "8EXw6DxREwnK",
        "outputId": "68e43c5f-b503-4cec-954b-e6ff4940305b"
      },
      "execution_count": 47,
      "outputs": [
        {
          "output_type": "execute_result",
          "data": {
            "text/plain": [
              "1100"
            ]
          },
          "metadata": {},
          "execution_count": 47
        }
      ]
    }
  ]
}