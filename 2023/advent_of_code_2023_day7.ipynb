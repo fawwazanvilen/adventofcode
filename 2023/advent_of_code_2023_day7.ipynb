{
  "nbformat": 4,
  "nbformat_minor": 0,
  "metadata": {
    "colab": {
      "provenance": []
    },
    "kernelspec": {
      "name": "python3",
      "display_name": "Python 3"
    },
    "language_info": {
      "name": "python"
    }
  },
  "cells": [
    {
      "cell_type": "code",
      "execution_count": null,
      "metadata": {
        "id": "bBnX9-HZosYJ"
      },
      "outputs": [],
      "source": [
        "# day 7 - part 1\n",
        "with open('advent-of-code-day7-input', 'r') as file:\n",
        "# with open('advent-of-code-day7-testcase', 'r') as file:\n",
        "  input_data = file.read()\n",
        "\n",
        "# split the input data by \"\\n\"\n",
        "input_data = input_data.split(\"\\n\")\n",
        "\n",
        "# filter from empty elements\n",
        "input_data = list(filter(None, input_data))\n",
        "\n",
        "# check (good)\n",
        "# input_data\n",
        "\n",
        "# messing around with the data\n",
        "# input_data[0].split(\" \")\n",
        "\n",
        "# processing input_data w/ list comprehension (lfg)\n",
        "hand_bid_pairs = [(hand_bid_string.split(\" \")[0], hand_bid_string.split(\" \")[1]) for hand_bid_string in input_data]\n",
        "# hand_bid_pairs"
      ]
    },
    {
      "cell_type": "code",
      "source": [
        "# define a function that identifies hand type\n",
        "# use Counter from collections\n",
        "from collections import Counter\n",
        "\n",
        "def handStrength(hand):\n",
        "  # hand is a string, of five chars\n",
        "  # make a count of each char in hand\n",
        "  original_hand = hand # lmao i forgot that i'm gonna use this to turn this into list of card strength\n",
        "  hand = Counter(hand)\n",
        "  hand = dict(hand.most_common()) # sort it, using the most_common() method for a counter object\n",
        "\n",
        "  # dic of relative strengths of different hand types\n",
        "  relative_hand_strengths = {\n",
        "      \"five of a kind\"  : 7,\n",
        "      \"four of a kind\"  : 6,\n",
        "      \"full house\"      : 5,\n",
        "      \"three of a kind\" : 4,\n",
        "      \"two pair\"        : 3,\n",
        "      \"one pair\"        : 2,\n",
        "      \"high card\"       : 1,\n",
        "  }\n",
        "\n",
        "  # dic of relative strengths of different cards\n",
        "  relative_card_strengths = {\n",
        "      \"A\" : 14,\n",
        "      \"K\" : 13,\n",
        "      \"Q\" : 12,\n",
        "      \"J\" : 11,\n",
        "      \"T\": 10,\n",
        "      \"9\" : 9,\n",
        "      \"8\" : 8,\n",
        "      \"7\" : 7,\n",
        "      \"6\" : 6,\n",
        "      \"5\" : 5,\n",
        "      \"4\" : 4,\n",
        "      \"3\" : 3,\n",
        "      \"2\" : 2\n",
        "  }\n",
        "\n",
        "  # the logic\n",
        "  if 5 in hand.values():\n",
        "    hand_type = \"five of a kind\"\n",
        "\n",
        "  elif 4 in hand.values():\n",
        "    hand_type = \"four of a kind\"\n",
        "\n",
        "  elif [3, 2] == list(hand.values()):\n",
        "    hand_type = \"full house\"\n",
        "\n",
        "  elif 3 in hand.values():\n",
        "    hand_type = \"three of a kind\"\n",
        "\n",
        "  elif [2, 2, 1] == list(hand.values()):\n",
        "    hand_type = \"two pair\"\n",
        "\n",
        "  elif 2 in hand.values():\n",
        "    hand_type = \"one pair\"\n",
        "\n",
        "  else:\n",
        "    hand_type = \"high card\"\n",
        "\n",
        "  # the hand_strength, based on the dic above\n",
        "  hand_strength = [relative_hand_strengths[hand_type]]\n",
        "\n",
        "  # the card_strength, based on the dic above\n",
        "  card_strength = [relative_card_strengths[card] for card in original_hand]\n",
        "\n",
        "  # the overall hand strength is hand_strength plus card_strength\n",
        "  hand_strength += card_strength\n",
        "\n",
        "  return hand_strength\n",
        "\n",
        "# handStrength(hand_bid_pairs[0][0])"
      ],
      "metadata": {
        "id": "6TdLsFpSqvHX"
      },
      "execution_count": null,
      "outputs": []
    },
    {
      "cell_type": "code",
      "source": [
        "# solve the problem\n",
        "# define a function that takes in hand_bid_pairs, then gets out a sorted list of handStrengths then multiplies the bid value by the sort order (using sorted() !!!)\n",
        "def problem1(hand_bid_pairs):\n",
        "  # intialize the list that will save this, also the total\n",
        "  hand_strength_list = []\n",
        "  total = 0\n",
        "\n",
        "  # gets the handStrength out\n",
        "  for hand, bid in hand_bid_pairs:\n",
        "    hand_strength_list.append(handStrength(hand)+[int(bid)]) # you can plus [int(bid)] safely because it's guaranteed to be in the 7th column always (!!)\n",
        "\n",
        "  # then sort it\n",
        "  hand_strength_list = sorted(hand_strength_list) # you don't need to reverse it because you actually want it go from the smallest to the largest\n",
        "\n",
        "  # then sum, the multiplication between i+1 and the bid\n",
        "  for i, hand_strength in enumerate(hand_strength_list):\n",
        "    bid = hand_strength[6]\n",
        "    total += (i+1)*bid\n",
        "\n",
        "  return total\n",
        "\n",
        "problem1(hand_bid_pairs)\n",
        "# 6440, RIGHT FOR THE TEST CASE!!!\n",
        "# 252656917, RIGHT FIRST TRY IN 58' LET'S GOOOOOOO"
      ],
      "metadata": {
        "colab": {
          "base_uri": "https://localhost:8080/"
        },
        "id": "K74tWYx5z1fX",
        "outputId": "f9d629db-6aff-4909-b891-1cbc6ead59e4"
      },
      "execution_count": null,
      "outputs": [
        {
          "output_type": "execute_result",
          "data": {
            "text/plain": [
              "252656917"
            ]
          },
          "metadata": {},
          "execution_count": 46
        }
      ]
    },
    {
      "cell_type": "code",
      "source": [
        "# day 7 - part 2\n",
        "# here so i don't scroll up again\n",
        "with open('advent-of-code-day7-input', 'r') as file:\n",
        "# with open('advent-of-code-day7-testcase', 'r') as file:\n",
        "  input_data = file.read()\n",
        "\n",
        "# split the input data by \"\\n\"\n",
        "input_data = input_data.split(\"\\n\")\n",
        "\n",
        "# filter from empty elements\n",
        "input_data = list(filter(None, input_data))\n",
        "\n",
        "# check (good)\n",
        "# input_data\n",
        "\n",
        "# messing around with the data\n",
        "# input_data[0].split(\" \")\n",
        "\n",
        "# processing input_data w/ list comprehension (lfg)\n",
        "hand_bid_pairs = [(hand_bid_string.split(\" \")[0], hand_bid_string.split(\" \")[1]) for hand_bid_string in input_data]\n",
        "# hand_bid_pairs"
      ],
      "metadata": {
        "id": "W-DCw4V91lYU"
      },
      "execution_count": null,
      "outputs": []
    },
    {
      "cell_type": "code",
      "source": [
        "# define a function that identifies hand type\n",
        "# the problem 2 is a bit different, owing to there being a Joker card\n",
        "# use Counter from collections\n",
        "from collections import Counter\n",
        "\n",
        "def handStrength2(hand):\n",
        "  # hand is a string, of five chars\n",
        "  # make a count of each char in hand\n",
        "  original_hand = hand # lmao i forgot that i'm gonna use this to turn this into list of card strength\n",
        "  hand = Counter(hand)\n",
        "  hand = dict(hand.most_common()) # sort it, using the most_common() method for a counter object\n",
        "\n",
        "  # get the joker count, if it exists, add it to the largest card\n",
        "  # hmm the joker is tricky\n",
        "  # i have to get the logic right here\n",
        "  if \"J\" in hand.keys(): # AH JOKER MIGHT BE THE LARGEST HAND\n",
        "    for card in hand.keys():\n",
        "      if card != \"J\":\n",
        "        largest_card = card\n",
        "        break\n",
        "    else:\n",
        "      largest_card = \"A\" # if it's all J, then just make it an A?\n",
        "    hand[largest_card] = hand.get(largest_card, 0) + hand.get(\"J\", 0) # if J doesn't exist then it just returns 0 (this is not necessary i think)\n",
        "    del hand[\"J\"] # then delete it from the hand dict\n",
        "\n",
        "  # dic of relative strengths of different hand types\n",
        "  relative_hand_strengths = {\n",
        "      \"five of a kind\"  : 7,\n",
        "      \"four of a kind\"  : 6,\n",
        "      \"full house\"      : 5,\n",
        "      \"three of a kind\" : 4,\n",
        "      \"two pair\"        : 3,\n",
        "      \"one pair\"        : 2,\n",
        "      \"high card\"       : 1,\n",
        "  }\n",
        "\n",
        "  # dic of relative strengths of different cards\n",
        "  relative_card_strengths = {\n",
        "      \"A\" : 14,\n",
        "      \"K\" : 13,\n",
        "      \"Q\" : 12,\n",
        "      \"T\": 10,\n",
        "      \"9\" : 9,\n",
        "      \"8\" : 8,\n",
        "      \"7\" : 7,\n",
        "      \"6\" : 6,\n",
        "      \"5\" : 5,\n",
        "      \"4\" : 4,\n",
        "      \"3\" : 3,\n",
        "      \"2\" : 2,\n",
        "      \"J\" : 1 # lmao you don't have to make the T onwards from 11, this is just relative (it's just ordinal, not interval (cardinal) or ratio; nominal is just different, there's no inherent sorting)\n",
        "  }\n",
        "\n",
        "  # the logic\n",
        "  if 5 in hand.values():\n",
        "    hand_type = \"five of a kind\"\n",
        "\n",
        "  elif 4 in hand.values():\n",
        "    hand_type = \"four of a kind\"\n",
        "\n",
        "  elif [3, 2] == list(hand.values()):\n",
        "    hand_type = \"full house\"\n",
        "\n",
        "  elif 3 in hand.values():\n",
        "    hand_type = \"three of a kind\"\n",
        "\n",
        "  elif [2, 2, 1] == list(hand.values()):\n",
        "    hand_type = \"two pair\"\n",
        "\n",
        "  elif 2 in hand.values():\n",
        "    hand_type = \"one pair\"\n",
        "\n",
        "  else:\n",
        "    hand_type = \"high card\"\n",
        "\n",
        "  # the hand_strength, based on the dic above\n",
        "  hand_strength = [relative_hand_strengths[hand_type]]\n",
        "\n",
        "  # the card_strength, based on the dic above\n",
        "  card_strength = [relative_card_strengths[card] for card in original_hand]\n",
        "\n",
        "  # the overall hand strength is hand_strength plus card_strength\n",
        "  hand_strength += card_strength\n",
        "\n",
        "  return hand_strength\n",
        "\n",
        "# handStrength2(\"JJJJA\")"
      ],
      "metadata": {
        "colab": {
          "base_uri": "https://localhost:8080/"
        },
        "id": "XyT3XUar2Cyr",
        "outputId": "80ac2bd8-e779-4730-a40a-3c397ce16862"
      },
      "execution_count": null,
      "outputs": [
        {
          "output_type": "execute_result",
          "data": {
            "text/plain": [
              "[7, 1, 1, 1, 1, 14]"
            ]
          },
          "metadata": {},
          "execution_count": 62
        }
      ]
    },
    {
      "cell_type": "code",
      "source": [
        "# solve the problem\n",
        "# problem2's exactly the same\n",
        "# define a function that takes in hand_bid_pairs, then gets out a sorted list of handStrengths then multiplies the bid value by the sort order (using sorted() !!!)\n",
        "def problem2(hand_bid_pairs):\n",
        "  # intialize the list that will save this, also the total\n",
        "  hand_strength_list = []\n",
        "  total = 0\n",
        "\n",
        "  # gets the handStrength2 (!! as opposed to handStrength) out\n",
        "  for hand, bid in hand_bid_pairs:\n",
        "    hand_strength_list.append(handStrength2(hand)+[int(bid)]) # you can plus [int(bid)] safely because it's guaranteed to be in the 7th column always (!!)\n",
        "\n",
        "  # then sort it\n",
        "  hand_strength_list = sorted(hand_strength_list) # you don't need to reverse it because you actually want it go from the smallest to the largest\n",
        "\n",
        "  # then sum, the multiplication between i+1 and the bid\n",
        "  for i, hand_strength in enumerate(hand_strength_list):\n",
        "    bid = hand_strength[6]\n",
        "    total += (i+1)*bid\n",
        "\n",
        "  return total\n",
        "\n",
        "problem2(hand_bid_pairs)\n",
        "# 5905, RIGHT FOR THE TEST CASE!!!\n",
        "# 254384170, not right, answer's .. too high?? what\n",
        "# 253499763, RIGHT SECOND TRY IN 24' !!!!!! LET'S GOOOOOOO"
      ],
      "metadata": {
        "colab": {
          "base_uri": "https://localhost:8080/"
        },
        "id": "AGP_h2Ts3nrB",
        "outputId": "9185bf1f-4e53-4969-fea6-81b3222dbd6e"
      },
      "execution_count": null,
      "outputs": [
        {
          "output_type": "execute_result",
          "data": {
            "text/plain": [
              "253499763"
            ]
          },
          "metadata": {},
          "execution_count": 63
        }
      ]
    }
  ]
}