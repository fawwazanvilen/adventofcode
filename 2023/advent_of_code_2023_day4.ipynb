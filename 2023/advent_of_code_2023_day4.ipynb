{
  "nbformat": 4,
  "nbformat_minor": 0,
  "metadata": {
    "colab": {
      "provenance": []
    },
    "kernelspec": {
      "name": "python3",
      "display_name": "Python 3"
    },
    "language_info": {
      "name": "python"
    }
  },
  "cells": [
    {
      "cell_type": "code",
      "execution_count": 28,
      "metadata": {
        "id": "Fb9ObIMyAqez"
      },
      "outputs": [],
      "source": [
        "# day 4 - part 1\n",
        "with open('advent-of-code-day4-input', 'r') as file:\n",
        "# with open('advent-of-code-day4-testcase', 'r') as file:\n",
        "  input_data = file.read()\n",
        "\n",
        "# split the input data by \"\\n\"\n",
        "input_data = input_data.split(\"\\n\")\n",
        "\n",
        "# filter from empty elements\n",
        "input_data = list(filter(None, input_data))\n",
        "\n",
        "# check (good)\n",
        "# input_data"
      ]
    },
    {
      "cell_type": "code",
      "source": [
        "# messing around with the first line\n",
        "# input_data[0].split(\":\")\n",
        "# input_data[0].split(\":\")[0].split(\" \")[-1]\n",
        "\n",
        "# card_number = input_data[0].split(\":\")[0].split(\" \")[-1]\n",
        "# winning_numbers = input_data[0].split(\":\")[1].split(\"|\")[0].strip().split(\" \")\n",
        "# scratchcard_numbers = input_data[0].split(\":\")[1].split(\"|\")[1].strip().split(\" \")\n",
        "\n",
        "# winning_numbers = list(filter(None, winning_numbers))\n",
        "# scratchcard_numbers = list(filter(None, scratchcard_numbers))\n",
        "# # need to use list(filter(None, the_list)) to make sure empty strings are not in the list\n",
        "# print(winning_numbers, scratchcard_numbers)"
      ],
      "metadata": {
        "id": "knci5-RVAyNP"
      },
      "execution_count": 30,
      "outputs": []
    },
    {
      "cell_type": "code",
      "source": [
        "# defining regex stuff\n",
        "def card_regex(card):\n",
        "  # grabbing the info\n",
        "  card_number = int(card.split(\":\")[0].split(\" \")[-1])\n",
        "  winning_numbers = card.split(\":\")[1].split(\"|\")[0].strip().split(\" \")\n",
        "  scratchcard_numbers = card.split(\":\")[1].split(\"|\")[1].strip().split(\" \")\n",
        "\n",
        "  # getting rid of empty strings from the lists\n",
        "  winning_numbers = list(filter(None, winning_numbers))\n",
        "  scratchcard_numbers = list(filter(None, scratchcard_numbers))\n",
        "\n",
        "  return (card_number, winning_numbers, scratchcard_numbers)\n",
        "\n",
        "# solving the problem\n",
        "total = 0\n",
        "for card in input_data:\n",
        "  _, winning_numbers, scratchcard_numbers = card_regex(card)\n",
        "\n",
        "  # making them into set so we can do set intersection with them\n",
        "  winning_numbers = set(winning_numbers)\n",
        "  scratchcard_numbers = set(scratchcard_numbers)\n",
        "\n",
        "  # the intersection between the two (the numbers that appear on both)\n",
        "  actual_wins = winning_numbers & scratchcard_numbers\n",
        "  card_worth = (2 ** (len(actual_wins)-1) if len(actual_wins)>=1 else 0)\n",
        "  total += card_worth\n",
        "\n",
        "print(total) # right first try!!!!"
      ],
      "metadata": {
        "colab": {
          "base_uri": "https://localhost:8080/"
        },
        "id": "yx8yA9v3CjPs",
        "outputId": "78343a39-4932-4331-9921-fa3bb89c73d0"
      },
      "execution_count": 29,
      "outputs": [
        {
          "output_type": "stream",
          "name": "stdout",
          "text": [
            "17803\n"
          ]
        }
      ]
    },
    {
      "cell_type": "code",
      "source": [
        "# day 4 - part 2\n",
        "# hmm\n",
        "# i think i need a dic here\n",
        "# to keep track of the numbers of all cards here, default 1\n",
        "# initialize the dic\n",
        "card_dic = {}\n",
        "max_card_number = len(input_data)\n",
        "for i in range(1, max_card_number+1):\n",
        "  card_dic[i] = 1 # using the usual .get(i, 1) method doesn't work because you need them all initialized, not all of them win\n",
        "\n",
        "for card in input_data:\n",
        "  card_number, winning_numbers, scratchcard_numbers = card_regex(card)\n",
        "\n",
        "  # making them into set so we can do set intersection with them\n",
        "  winning_numbers = set(winning_numbers)\n",
        "  scratchcard_numbers = set(scratchcard_numbers)\n",
        "\n",
        "  # the intersection between the two (the numbers that appear on both)\n",
        "  actual_wins = winning_numbers & scratchcard_numbers\n",
        "\n",
        "  # key logic here\n",
        "  if len(actual_wins) >= 1:\n",
        "    for i in range(card_number+1, min(max_card_number+1, card_number+len(actual_wins)+1)): # the start, plus the len of the actual wins -1\n",
        "      card_dic[i] = card_dic[i] + (1 * card_dic[card_number])\n",
        "\n",
        "# sum of all cards\n",
        "total = sum(card_dic.values())\n",
        "print(total) # not right first try :(, 920029 is wrong"
      ],
      "metadata": {
        "colab": {
          "base_uri": "https://localhost:8080/"
        },
        "id": "W2eG-ZJBEjVZ",
        "outputId": "d09a9161-6283-4b9e-9186-11f3ac115eea"
      },
      "execution_count": 33,
      "outputs": [
        {
          "output_type": "stream",
          "name": "stdout",
          "text": [
            "5554894\n"
          ]
        }
      ]
    },
    {
      "cell_type": "code",
      "source": [
        "# finished in 49'13\"210ms (first part ~30', second ~20')"
      ],
      "metadata": {
        "id": "OqveelywFthm"
      },
      "execution_count": 32,
      "outputs": []
    }
  ]
}