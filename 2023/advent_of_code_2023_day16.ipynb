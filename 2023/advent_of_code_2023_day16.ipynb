{
  "nbformat": 4,
  "nbformat_minor": 0,
  "metadata": {
    "colab": {
      "provenance": []
    },
    "kernelspec": {
      "name": "python3",
      "display_name": "Python 3"
    },
    "language_info": {
      "name": "python"
    }
  },
  "cells": [
    {
      "cell_type": "code",
      "execution_count": 87,
      "metadata": {
        "id": "mTC50kcNtVyZ"
      },
      "outputs": [],
      "source": [
        "# day 16\n",
        "# define a function that loads the input\n",
        "def load(input_filename):\n",
        "  with open(input_filename, 'r') as file:\n",
        "    input = file.read()\n",
        "\n",
        "  # general cleaning\n",
        "  input = input.strip()\n",
        "  input = input.split('\\n')\n",
        "  # input = input.split('\\n\\n')\n",
        "\n",
        "  # problem-specific cleaning\n",
        "  input = tuple(list(row) for row in input)\n",
        "  return input\n",
        "\n",
        "input_filename = 'advent-of-code-day16-input'\n",
        "# input_filename = 'advent-of-code-day16-testcase'\n",
        "layout = load(input_filename)\n",
        "# layout"
      ]
    },
    {
      "cell_type": "code",
      "source": [
        "# part 1\n",
        "def move(past_action, state, layout):\n",
        "  # dicts\n",
        "  past_action_observation_dic = { #\n",
        "      'up .'     : ['up'],\n",
        "      'right .'  : ['right'],\n",
        "      'left .'   : ['left'],\n",
        "      'down .'   : ['down'],\n",
        "      'up |'     : ['up'],\n",
        "      'right |'  : ['up', 'down'],\n",
        "      'left |'   : ['up', 'down'],\n",
        "      'down |'   : ['down'],\n",
        "      'up -'     : ['right', 'left'],\n",
        "      'right -'  : ['right'],\n",
        "      'left -'   : ['left'],\n",
        "      'down -'   : ['right', 'left'],\n",
        "      'up /'     : ['right'],\n",
        "      'right /'  : ['up'],\n",
        "      'left /'   : ['down'],\n",
        "      'down /'   : ['left'],\n",
        "      'up \\\\'    : ['left'],\n",
        "      'right \\\\' : ['down'],\n",
        "      'left \\\\'  : ['up'],\n",
        "      'down \\\\'  : ['right'],\n",
        "  }\n",
        "  action_move_dic = {\n",
        "      'up'    : (-1, 0),\n",
        "      'right' : (0, 1),\n",
        "      'down'  : (1, 0),\n",
        "      'left'  : (0, -1),\n",
        "  }\n",
        "  if state[0] >= len(layout) or state[1] >= len(layout[0]) or state[0] < 0 or state[1] < 0:\n",
        "    return [(past_action, state)], layout\n",
        "  observation = layout[state[0]][state[1]]\n",
        "  next_actions = past_action_observation_dic[past_action + ' ' + observation]\n",
        "  next_states = []\n",
        "  # print(next_actions)\n",
        "  for next_action in next_actions:\n",
        "    next_state_row = state[0] + action_move_dic[next_action][0]\n",
        "    next_state_col = state[1] + action_move_dic[next_action][1]\n",
        "    next_states.append((next_state_row, next_state_col))\n",
        "\n",
        "  # print(list(zip(next_actions, next_states)))\n",
        "  return list(zip(next_actions, next_states)), layout\n",
        "\n",
        "def part1(first_action, first_state, layout):\n",
        "  seen_action_state = set()\n",
        "  action_state_queue = [[first_action, first_state]]\n",
        "  seen_action_state.add((first_action, first_state))\n",
        "\n",
        "  while action_state_queue != []:\n",
        "    temp_action_state_queue = []\n",
        "    for action, state in action_state_queue:\n",
        "      action_states, _ = move(action, state, layout)\n",
        "      temp_action_state_queue += action_states\n",
        "\n",
        "    action_state_queue = []\n",
        "    for action, state in temp_action_state_queue:\n",
        "      if (action, state) not in seen_action_state and state[0] < len(layout) and state[1] < len(layout[0]) and state[0] >= 0 and state[1] >= 0:\n",
        "        action_state_queue.append([action, state])\n",
        "        seen_action_state.add((action, state))\n",
        "\n",
        "  # return len(seen_action_state)\n",
        "  # return seen_action_state\n",
        "  return len(set([state for action, state in list(seen_action_state)]))\n",
        "\n",
        "first_action = 'right'\n",
        "first_state = (0, 0)\n",
        "part1(first_action, first_state, layout)\n",
        "# move(first_action, first_state, layout)\n",
        "# finished after 92'\n",
        "# 7415"
      ],
      "metadata": {
        "colab": {
          "base_uri": "https://localhost:8080/"
        },
        "id": "IZhEfC3uuOiU",
        "outputId": "27230b79-6d9b-452b-9969-b7b8faf35666"
      },
      "execution_count": 102,
      "outputs": [
        {
          "output_type": "execute_result",
          "data": {
            "text/plain": [
              "7415"
            ]
          },
          "metadata": {},
          "execution_count": 102
        }
      ]
    },
    {
      "cell_type": "code",
      "source": [
        "# part 2\n",
        "def part2(layout):\n",
        "  possible_first_action_state = []\n",
        "  for i in range(len(layout)):\n",
        "    possible_first_action_state.append(('right', (i, 0)))\n",
        "    possible_first_action_state.append(('left', (i, len(layout[0]) - 1)))\n",
        "  for j in range(len(layout[0])):\n",
        "    possible_first_action_state.append(('down', (0, j)))\n",
        "    possible_first_action_state.append(('up', (len(layout) - 1, j)))\n",
        "\n",
        "  # print(possible_first_action_state)\n",
        "  # print(len(possible_first_action_state))\n",
        "\n",
        "  current_max = 0\n",
        "  for action, state in possible_first_action_state:\n",
        "    current_energized = part1(action, state, layout)\n",
        "    current_max = max(current_max, current_energized)\n",
        "    # print(action, state, current_energized)\n",
        "  return current_max\n",
        "\n",
        "\n",
        "input_filename = 'advent-of-code-day16-input'\n",
        "# input_filename = 'advent-of-code-day16-testcase'\n",
        "layout = load(input_filename)\n",
        "\n",
        "part2(layout)\n",
        "# 51, right test case\n",
        "# 7942, wrong too low (because i used 9 as the max col/row lmao)\n",
        "# OH MY FUCKING GOD.. IT WAS ONLY OFF BY 1\n",
        "# 7943 IS THE RIGHT ANSWER\n",
        "# IT'S BECAUSE I DIDN'T ADD THE FIRST ACTION STATE PAIR TO THE SET (seen_action_state.add((first_action, first_state)))\n",
        "# SO STUPID OMG"
      ],
      "metadata": {
        "colab": {
          "base_uri": "https://localhost:8080/"
        },
        "id": "__b02-4yBmPn",
        "outputId": "a3b4a723-5361-4db4-9c4d-0b0fa8c6ca3b"
      },
      "execution_count": 103,
      "outputs": [
        {
          "output_type": "execute_result",
          "data": {
            "text/plain": [
              "7943"
            ]
          },
          "metadata": {},
          "execution_count": 103
        }
      ]
    }
  ]
}