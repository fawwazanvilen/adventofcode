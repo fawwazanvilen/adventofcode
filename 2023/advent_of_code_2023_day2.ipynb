{
  "nbformat": 4,
  "nbformat_minor": 0,
  "metadata": {
    "colab": {
      "provenance": []
    },
    "kernelspec": {
      "name": "python3",
      "display_name": "Python 3"
    },
    "language_info": {
      "name": "python"
    }
  },
  "cells": [
    {
      "cell_type": "code",
      "execution_count": null,
      "metadata": {
        "id": "hcW7fI4cnw4Y"
      },
      "outputs": [],
      "source": [
        "# day 2 - part 1\n",
        "with open('advent-of-code-day2-input', 'r') as file:\n",
        "  input_data = file.read()\n",
        "\n",
        "# split the input data by \"\\n\"\n",
        "input_data = input_data.split(\"\\n\")\n",
        "\n",
        "# filter from empty elements\n",
        "input_data = list(filter(None, input_data))\n",
        "\n",
        "# check (good)\n",
        "# input_data"
      ]
    },
    {
      "cell_type": "code",
      "source": [
        "# fucking around with the first line\n",
        "# input_data[0].split(\":\")[0].split(\" \")[-1] # game number\n",
        "# game = input_data[0].split(\":\")[1].split(\";\")\n",
        "# input_data[0].split(\":\")[1].split(\";\")\n",
        "# game =\n",
        "\n",
        "# input_data[0].split(\":\")[1].split(\";\")[0].split(\",\")[0].strip()\n",
        "# for grab in game:"
      ],
      "metadata": {
        "id": "5qJKxkD9p7VT"
      },
      "execution_count": null,
      "outputs": []
    },
    {
      "cell_type": "code",
      "source": [
        "# this plan is good but you can just list the max grab for each color in a game\n",
        "# # general plan\n",
        "# # for every grab, turn it into a dic\n",
        "# # for every game with a list of grabs, turn the list of grabs into a list of dic\n",
        "# # turn the list of games into a list of dic\n",
        "\n",
        "# # turn grab string into a dic\n",
        "# def grab_string_to_dic(s):\n",
        "#   pairs = s.split(\",\")\n",
        "\n",
        "#   color_to_count = {}\n",
        "#   for pair in pairs:\n",
        "#     count, color = pair.strip().split(\" \")\n",
        "#     color_to_count[color] = count\n",
        "\n",
        "#   return color_to_count\n",
        "\n",
        "# # turn a list of grab string (inside one game) into a list of dic\n",
        "# def game_list_of_grab_strings_to_dics(game_list):\n",
        "#   list_of_dics = [grab_string_to_dic(grab) for grab in game_list]\n",
        "#   return list_of_dics\n",
        "\n",
        "\n",
        "\n",
        "# game_list_of_grab_strings_to_dics(input_data[0].split(\":\")[1].split(\";\"))"
      ],
      "metadata": {
        "id": "tGf-TO6lsV8T"
      },
      "execution_count": null,
      "outputs": []
    },
    {
      "cell_type": "code",
      "source": [
        "def game_grabs_to_max_dic(grabs):\n",
        "\n",
        "  color_to_max_count = {} # empty dic to store max count for each color, in a game\n",
        "\n",
        "  for grab in grabs: # grab, eg ' 14 green, 8 blue, 9 red',\n",
        "    grab = grab.split(\",\") # split into [' 14 green', ' 8 blue', ' 9 red']\n",
        "\n",
        "    for pair in grab: # pair, eg ' 14 green'\n",
        "      count, color = pair.strip().split(\" \")\n",
        "      count = int(count)\n",
        "      color_to_max_count[color] = max(color_to_max_count.get(color, 0), count) # max between previous and current color\n",
        "\n",
        "  return color_to_max_count\n",
        "\n",
        "## main algo\n",
        "def games_list_to_dic(game_list):\n",
        "  games_dic = {}\n",
        "\n",
        "  for game in game_list:\n",
        "    game_number = game.split(\":\")[0].split(\" \")[-1]\n",
        "    # print(game)\n",
        "    game_dic = game_grabs_to_max_dic(game.split(\":\")[1].split(\";\"))\n",
        "    games_dic[game_number] = game_dic\n",
        "\n",
        "  return games_dic\n",
        "\n",
        "## solving the problem\n",
        "actual_balls = {\"red\": 12, \"green\": 13, \"blue\": 14}\n",
        "games_dic = games_list_to_dic(input_data)\n",
        "# games_dic.keys()\n",
        "\n",
        "sum = 0\n",
        "for game_number in games_dic.keys():\n",
        "  for color in actual_balls.keys():\n",
        "    if games_dic[game_number][color] > actual_balls[color]:\n",
        "      break\n",
        "  else:\n",
        "    sum += int(game_number)\n",
        "print(sum)"
      ],
      "metadata": {
        "colab": {
          "base_uri": "https://localhost:8080/"
        },
        "id": "jqKDZHRubc8o",
        "outputId": "ae451087-19b9-4725-8efa-64113b2d63ba"
      },
      "execution_count": null,
      "outputs": [
        {
          "output_type": "stream",
          "name": "stdout",
          "text": [
            "2256\n"
          ]
        }
      ]
    },
    {
      "cell_type": "code",
      "source": [
        "# day 2 - part 2\n",
        "with open('advent-of-code-day2-input', 'r') as file:\n",
        "  input_data = file.read()\n",
        "\n",
        "# split the input data by \"\\n\"\n",
        "input_data = input_data.split(\"\\n\")\n",
        "\n",
        "# filter from empty elements\n",
        "input_data = list(filter(None, input_data))\n",
        "\n",
        "# check (good)\n",
        "# input_data"
      ],
      "metadata": {
        "id": "zeumuT1ghbP7"
      },
      "execution_count": null,
      "outputs": []
    },
    {
      "cell_type": "code",
      "source": [
        "# lmao i've done the logic to answer part 2, in part 1\n",
        "# the trick is to notice that the min amount of balls in the sack is the max for each color in each grabs of a game\n",
        "def game_grabs_to_max_dic(grabs):\n",
        "\n",
        "  color_to_max_count = {} # empty dic to store max count for each color, in a game\n",
        "\n",
        "  for grab in grabs: # grab, eg ' 14 green, 8 blue, 9 red',\n",
        "    grab = grab.split(\",\") # split into [' 14 green', ' 8 blue', ' 9 red']\n",
        "\n",
        "    for pair in grab: # pair, eg ' 14 green'\n",
        "      count, color = pair.strip().split(\" \")\n",
        "      count = int(count)\n",
        "      color_to_max_count[color] = max(color_to_max_count.get(color, 0), count) # max between previous and current color\n",
        "\n",
        "  return color_to_max_count\n",
        "\n",
        "## main algo\n",
        "def games_list_to_dic(game_list):\n",
        "  games_dic = {}\n",
        "\n",
        "  for game in game_list:\n",
        "    game_number = game.split(\":\")[0].split(\" \")[-1]\n",
        "    # print(game)\n",
        "    game_dic = game_grabs_to_max_dic(game.split(\":\")[1].split(\";\"))\n",
        "    games_dic[game_number] = game_dic\n",
        "\n",
        "  return games_dic\n",
        "\n",
        "# solving the problem\n",
        "games_dic = games_list_to_dic(input_data)\n",
        "\n",
        "sum = 0\n",
        "for game_number in games_dic.keys():\n",
        "  power = 1\n",
        "  for color in [\"red\", \"blue\", \"green\"]:\n",
        "    power *= games_dic[game_number][color]\n",
        "  sum += power\n",
        "\n",
        "print(sum)"
      ],
      "metadata": {
        "colab": {
          "base_uri": "https://localhost:8080/"
        },
        "id": "gdZcfKELawZ4",
        "outputId": "8532bd88-0e3c-45f4-c7f8-43d4dfcd3903"
      },
      "execution_count": null,
      "outputs": [
        {
          "output_type": "stream",
          "name": "stdout",
          "text": [
            "74229\n"
          ]
        }
      ]
    }
  ]
}